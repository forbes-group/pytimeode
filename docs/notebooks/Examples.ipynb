{
 "cells": [
  {
   "cell_type": "markdown",
   "metadata": {},
   "source": [
    "$\\newcommand{\\vect}[1]{\\vec{#1}}\n",
    "\\newcommand{\\uvect}[1]{\\hat{#1}}\n",
    "\\newcommand{\\abs}[1]{\\lvert#1\\rvert}\n",
    "\\newcommand{\\norm}[1]{\\lVert#1\\rVert}\n",
    "\\newcommand{\\I}{\\mathrm{i}}\n",
    "\\newcommand{\\ket}[1]{\\left|#1\\right\\rangle}\n",
    "\\newcommand{\\bra}[1]{\\left\\langle#1\\right|}\n",
    "\\newcommand{\\braket}[1]{\\langle#1\\rangle}\n",
    "\\newcommand{\\op}[1]{\\mathbf{#1}}\n",
    "\\newcommand{\\mat}[1]{\\mathbf{#1}}\n",
    "\\newcommand{\\d}{\\mathrm{d}}\n",
    "\\newcommand{\\pdiff}[3][]{\\frac{\\partial^{#1} #2}{\\partial {#3}^{#1}}}\n",
    "\\newcommand{\\diff}[3][]{\\frac{\\d^{#1} #2}{\\d {#3}^{#1}}}\n",
    "\\newcommand{\\ddiff}[3][]{\\frac{\\delta^{#1} #2}{\\delta {#3}^{#1}}}\n",
    "\\DeclareMathOperator{\\erf}{erf}\n",
    "\\DeclareMathOperator{\\order}{O}\n",
    "\\DeclareMathOperator{\\diag}{diag}$"
   ]
  },
  {
   "cell_type": "markdown",
   "metadata": {},
   "source": [
    "#Random Non-linear Schrödinger Equation"
   ]
  },
  {
   "cell_type": "markdown",
   "metadata": {},
   "source": [
    "Here is a small test-problem evolving a Schrödinger-like equation of the form\n",
    "\n",
    "$$\n",
    "  \\I\\ket{\\dot{\\psi}} = \\mat{H}\\ket{\\psi}\n",
    "$$\n",
    "\n",
    "where the Hamiltonian depends non-linearly on $\\ket{\\psi}$.  We apply to this equation an external potential."
   ]
  },
  {
   "cell_type": "code",
   "execution_count": null,
   "metadata": {
    "collapsed": false
   },
   "outputs": [],
   "source": [
    "from __future__ import division\n",
    "import sys;sys.path.append('../../')\n",
    "\n",
    "import numpy as np\n",
    "\n",
    "from pytimeode import interfaces\n",
    "from pytimeode.utils import interface\n",
    "\n",
    "class Problem(object):\n",
    "    def __init__(self, N=5, seed=1, g=1.0):\n",
    "        np.random.seed(seed)\n",
    "        H = np.random.rand(N, N) + np.random.rand(N, N)*1j - 0.5 - 0.5j\n",
    "        H = H + H.conj().T\n",
    "        \n",
    "        V = np.random.rand(N, N) + np.random.rand(N, N)*1j - 0.5 - 0.5j\n",
    "        V = V + V.conj().T\n",
    "        \n",
    "        Es, Psi = np.linalg.eigh(H)\n",
    "        H -= Es[0]*np.eye(N)\n",
    "        Es -= Es[0]\n",
    "        psi0 = Psi[:, 0]\n",
    "        H -= g*np.diag(abs(psi0)**2)\n",
    "        \n",
    "        self.H = H\n",
    "        self.V = V\n",
    "        self.g = g\n",
    "        self.N = N\n",
    "\n",
    "    def Vt(self, t):\n",
    "        return 0.0*self.V\n",
    "    \n",
    "    def get_Hy(self, y, t):\n",
    "        V = self.Vt(t) + self.g*abs(y)**2\n",
    "        return (self.H + V).dot(y)\n",
    "\n",
    "    \n",
    "class State(interfaces.ArrayStateMixin):\n",
    "    interface.implements(interfaces.IStateForABMEvolvers)\n",
    "    \n",
    "    def __init__(self, p):\n",
    "        self.t = 0.0\n",
    "        self.p = p\n",
    "        self.data = np.empty(p.N, dtype=complex)\n",
    "    \n",
    "    def copy(self):\n",
    "        return interfaces.ArrayStateMixin.copy(self, y=State(p=self.p))\n",
    "    \n",
    "    def copy_from(self, y):\n",
    "        interfaces.ArrayStateMixin.copy_from(self, y)\n",
    "        self.p = y.p\n",
    "        \n",
    "    def compute_dy(self, t, dy=None, potentials=None):\n",
    "        if dy is None:\n",
    "            dy = self.copy()\n",
    "        dy.data[...] = self.p.get_Hy(y=self.data, t=t)\n",
    "        dy *= -1j\n",
    "        return dy\n",
    "        \n",
    "interface.verifyClass(interfaces.IStateForABMEvolvers, State)"
   ]
  },
  {
   "cell_type": "code",
   "execution_count": null,
   "metadata": {
    "collapsed": false
   },
   "outputs": [],
   "source": [
    "p = Problem()\n",
    "y = State(p)\n",
    "y.data[...] = 1.0\n",
    "from pytimeode import evolvers\n",
    "with y.lock:\n",
    "    evolver = evolvers.EvolverABM(y=y, dt=0.01)\n",
    "    evolver.evolve(200)\n",
    "with y.lock:\n",
    "    evolver = evolvers.EvolverABM(y=y, dt=0.01)\n",
    "    evolver.evolve(2)\n",
    "evolver.y"
   ]
  },
  {
   "cell_type": "markdown",
   "metadata": {},
   "source": [
    "#Gross-Pitaevskii Equation (GPE) "
   ]
  },
  {
   "cell_type": "markdown",
   "metadata": {},
   "source": [
    "##1D "
   ]
  },
  {
   "cell_type": "code",
   "execution_count": null,
   "metadata": {
    "collapsed": true
   },
   "outputs": [],
   "source": [
    "from __future__ import division\n",
    "import sys;sys.path.append('../../')\n",
    "import numpy as np\n",
    "from pytimeode import interfaces\n",
    "from pytimeode.utils import interface"
   ]
  },
  {
   "cell_type": "markdown",
   "metadata": {},
   "source": [
    "Here we briefly demonstrate using the framework to solve the GPE:\n",
    "\n",
    "$$\n",
    "  \\I\\hbar\\pdiff{}{t}\\psi(x,t) \n",
    "  = \\left(\\frac{-\\hbar^2 \\nabla^2}{2m} + g\\abs{\\psi(x,t)}^2 + V(x,t)\\right)\\psi(x,t).\n",
    "$$\n",
    "\n",
    "The state here is simply a complex array representing the wavefunction $\\psi(x,t)$ so we can use the ``ArrayStateMixin``.  We represent the problem on an $N$-point lattice in a periodic box of length $L$ so we can use fourier methods."
   ]
  },
  {
   "cell_type": "markdown",
   "metadata": {},
   "source": [
    "As a test problem, we will look at a domain wall oscillating in a harmonic trap\n",
    "\n",
    "$$\n",
    "  V(x, t) = \\frac{m\\omega^2}{2}x^2 - \\mu.\n",
    "$$\n",
    "\n",
    "The length-scales for this problem are the trap-length $a = \\sqrt{\\hbar/m\\omega}$ and the inter-particle separation $1/\\abs{\\psi}^2$ and the interaction length-scale $l_g = \\hbar^2/mg$.  If we assume that the Thomas-Fermi approximation is valid in the center of the trap, then the central density $n_0 = \\mu/g$ is set by the chemical potential.  We choose units so that $\\hbar = m = \\omega = 1$, set the TF radius $R_{TF} = 8a$ so that $\\mu = m\\omega^2 R_{TF}^2/2 = 32 m\\omega^2 a^2$.  Finally, we choose $g=\\hbar^2/ma$ so that $l_g = a$."
   ]
  },
  {
   "cell_type": "code",
   "execution_count": null,
   "metadata": {
    "collapsed": false
   },
   "outputs": [],
   "source": [
    "fft = np.fft.fft\n",
    "ifft = np.fft.ifft\n",
    "\n",
    "class State(interfaces.ArrayStateMixin):\n",
    "    interface.implements(interfaces.IStateForABMEvolvers)\n",
    "    \n",
    "    def __init__(self, N=256, L=20.0, mu=32.0, hbar=1.0, m=1.0, g=1.0, omega=1.0):\n",
    "        self.t = 0.0\n",
    "        self.N = N\n",
    "        self.L = L\n",
    "        self.hbar = hbar\n",
    "        self.m = m\n",
    "        self.g = g\n",
    "        self.mu = mu\n",
    "        self.omega = omega\n",
    "        \n",
    "        self.data = np.empty(self.N, dtype=complex)\n",
    "        self.dx = self.L / self.N\n",
    "        \n",
    "        # Abscissa centered about zero\n",
    "        self.x = np.arange(N)*self.dx - L/2.0\n",
    "        \n",
    "        # Momenta\n",
    "        self.k = 2*np.pi * np.fft.fftfreq(self.N, d=self.dx)\n",
    "        self.k2 = self.k**2\n",
    "        \n",
    "    def braket(self, a, b):\n",
    "        return a.conj().dot(b)*self.dx\n",
    "    \n",
    "    def n_TF(self):\n",
    "        \"\"\"Return the TF density.\"\"\"\n",
    "        V = self.Vt(t=0)\n",
    "        n_TF = np.where(self.mu > V, \n",
    "                        (self.mu - V)/self.g,\n",
    "                        0.0)\n",
    "        return n_TF\n",
    "\n",
    "    def laplacian(self, psi):\n",
    "        \"\"\"Return the laplacian of `f(x)`.\"\"\"\n",
    "        return - ifft(self.k2 * fft(psi))\n",
    "    \n",
    "    def Vt(self, t):\n",
    "        \"\"\"Overload this to define a time-dependent external potential.\"\"\"\n",
    "        return self.m/2.0 * (self.omega*self.x)**2\n",
    "    \n",
    "    def get_V(self, psi, t=0.0):\n",
    "        \"\"\"Return the effective potential.\"\"\"\n",
    "        return self.g * abs(psi)**2 - self.mu + self.Vt(t=t)\n",
    "        \n",
    "    def apply_H(self, psi, t=0.0):\n",
    "        hbar2m = self.hbar**2/2.0/self.m\n",
    "        V = self.get_V(psi=psi, t=t)\n",
    "        return -hbar2m * self.laplacian(psi) + V * psi\n",
    "        \n",
    "    def compute_dy(self, t, dy=None, potentials=None):\n",
    "        if dy is None:\n",
    "            dy = self.copy()\n",
    "        y = self.data.copy()\n",
    "        Hy = self.apply_H(psi=self.data, t=t)\n",
    "        Hy += self.braket(y, Hy)/self.braket(y,y) * y\n",
    "        dy.data[...] = Hy\n",
    "        dy *= -1j\n",
    "        return dy\n",
    "        \n",
    "interface.verifyClass(interfaces.IStateForABMEvolvers, State)"
   ]
  },
  {
   "cell_type": "code",
   "execution_count": null,
   "metadata": {
    "collapsed": false
   },
   "outputs": [],
   "source": [
    "%matplotlib inline\n",
    "from matplotlib import pyplot as plt\n",
    "y0 = State()\n",
    "y0.data[...] = np.sqrt(y0.n_TF())\n",
    "plt.plot(y0.x, abs(y0.data)**2)"
   ]
  },
  {
   "cell_type": "code",
   "execution_count": null,
   "metadata": {
    "collapsed": false
   },
   "outputs": [],
   "source": [
    "from pytimeode import evolvers\n",
    "with y0.lock:\n",
    "    evolver = evolvers.EvolverABM(y=y0, dt=0.0005)\n",
    "    evolver.evolve(3000)\n",
    "plt.plot(y0.x, abs(evolver.y.data)**2)"
   ]
  },
  {
   "cell_type": "code",
   "execution_count": null,
   "metadata": {
    "collapsed": true
   },
   "outputs": [],
   "source": [
    "%qtconsole"
   ]
  },
  {
   "cell_type": "code",
   "execution_count": null,
   "metadata": {
    "collapsed": true
   },
   "outputs": [],
   "source": []
  },
  {
   "cell_type": "code",
   "execution_count": null,
   "metadata": {
    "collapsed": true
   },
   "outputs": [],
   "source": []
  },
  {
   "cell_type": "code",
   "execution_count": null,
   "metadata": {
    "collapsed": true
   },
   "outputs": [],
   "source": []
  }
 ],
 "metadata": {
  "kernelspec": {
   "display_name": "Python 2",
   "language": "python",
   "name": "python2"
  },
  "language_info": {
   "codemirror_mode": {
    "name": "ipython",
    "version": 2
   },
   "file_extension": ".py",
   "mimetype": "text/x-python",
   "name": "python",
   "nbconvert_exporter": "python",
   "pygments_lexer": "ipython2",
   "version": "2.7.9"
  }
 },
 "nbformat": 4,
 "nbformat_minor": 0
}
