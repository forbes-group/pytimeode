{
 "cells": [
  {
   "cell_type": "markdown",
   "metadata": {},
   "source": [
    "# Split Operator Evolution"
   ]
  },
  {
   "cell_type": "markdown",
   "metadata": {},
   "source": [
    "Here we discuss some details about the split-operator evolution method.  The motivation is the evolution of a Schrödinger-like equation of the following form:\n",
    "\n",
    "$$\n",
    "  \\I\\hbar\\partial_t \\psi = \\op{H}\\cdot\\psi = (\\op{K} + \\op{V}_t[\\psi])\\cdot\\psi\n",
    "$$\n",
    "\n",
    "where the kinetic energy operator $\\op{K}$ is diagonal in momentum space and the potential operator $\\op{V}_t[\\psi]$ is diagonal in position space but might depend non-linearly on time and/or the state itself.\n",
    "\n",
    "The basic idea is to perform unitary evolution with\n",
    "\n",
    "$$\n",
    "  \\psi(t+\\delta) = e^{\\op{H}_t\\delta/\\I\\hbar}\\psi(t)\n",
    "$$\n",
    "\n",
    "which will explicitly preserve the norm of the state.  In what follows to simplify the notation we set $\\I\\hbar = 1$.  Computing the matrix exponential is expensive since $\\op{K}$ and $\\op{V}$ do not commute and are not diagonal in the same space, so we expand this using one of the following forms for the Trotter decomposition\n",
    "\n",
    "$$\n",
    "  e^{\\op{H}_t\\delta} \\approx e^{\\op{K}\\delta/2}e^{\\op{V}\\delta}e^{\\op{K}\\delta/2}\n",
    "                     \\approx e^{\\op{V}\\delta/2}e^{\\op{K}\\delta}e^{\\op{V}\\delta/2}.\n",
    "$$\n",
    "\n",
    "The idea is that since both $\\op{K}$ and $\\op{V}$ are diagonal in the appropriate space, the exponential is trivial to compute, and we can use the Fast Fourier Transfrom (FFT) between the steps to efficiently transfrom from one basis to the other."
   ]
  },
  {
   "cell_type": "markdown",
   "metadata": {},
   "source": [
    "## Error Analysis"
   ]
  },
  {
   "cell_type": "markdown",
   "metadata": {},
   "source": [
    "We start with the simple case where $\\op{V}$ is a constant.  In this case, if we could compute $e^{-\\I\\delta\\op{H}}$ exactly, we would have exact evolution.  Expanding, we see that the split-operator approach accumulates an error $\\order(\\delta^3)$ per time-step and hence a total error $\\order(\\delta^2)$."
   ]
  },
  {
   "cell_type": "code",
   "execution_count": 16,
   "metadata": {
    "collapsed": false
   },
   "outputs": [
    {
     "name": "stdout",
     "output_type": "stream",
     "text": [
      "IPython console for SymPy 0.7.7.dev (Python 2.7.10-64-bit) (ground types: python)\n"
     ]
    }
   ],
   "source": [
    "from IPython.display import display\n",
    "import sympy\n",
    "sympy.init_session(quiet=True)\n",
    "from sympy.physics.quantum.operator import HermitianOperator, Operator\n",
    "from sympy.physics.quantum.dagger import Dagger\n",
    "d = var('delta', real=True)\n",
    "K = Operator('K')\n",
    "V = Operator('V')\n",
    "H = K + V"
   ]
  },
  {
   "cell_type": "code",
   "execution_count": 17,
   "metadata": {
    "collapsed": false
   },
   "outputs": [
    {
     "data": {
      "image/png": "[encoded data removed]",
      "text/latex": [
       "$$e^{\\delta \\left(K + V\\right)} - e^{\\delta K} e^{\\delta V} = \\delta^{2} \\left(- \\frac{K V}{2} + \\frac{V K}{2}\\right) + \\mathcal{O}\\left(\\delta^{3}\\right)$$"
      ],
      "text/plain": [
       " δ⋅(K + V)    δ⋅K  δ⋅V    2 ⎛  K⋅V   V⋅K⎞    ⎛ 3⎞\n",
       "ℯ          - ℯ   ⋅ℯ    = δ ⋅⎜- ─── + ───⎟ + O⎝δ ⎠\n",
       "                            ⎝   2     2 ⎠        "
      ]
     },
     "metadata": {},
     "output_type": "display_data"
    },
    {
     "data": {
      "image/png": "[encoded data removed]",
      "text/latex": [
       "$$e^{\\delta \\left(K + V\\right)} - e^{\\frac{\\delta K}{2}} e^{\\delta V} e^{\\frac{\\delta K}{2}} = \\delta^{3} \\left(- \\frac{K V}{12} K - \\frac{K \\left(V\\right)^{2}}{12} + \\frac{\\left(K\\right)^{2} V}{24} + \\frac{V K}{6} V + \\frac{V \\left(K\\right)^{2}}{24} - \\frac{\\left(V\\right)^{2} K}{12}\\right) + \\mathcal{O}\\left(\\delta^{4}\\right)$$"
      ],
      "text/plain": [
       "              δ⋅K       δ⋅K                                                   \n",
       "              ───       ───      ⎛             2    2                2    2  ⎞\n",
       " δ⋅(K + V)     2   δ⋅V   2     3 ⎜  K⋅V⋅K   K⋅V    K ⋅V   V⋅K⋅V   V⋅K    V ⋅K⎟\n",
       "ℯ          - ℯ   ⋅ℯ   ⋅ℯ    = δ ⋅⎜- ───── - ──── + ──── + ───── + ──── - ────⎟\n",
       "                                 ⎝    12     12     24      6      24     12 ⎠\n",
       "\n",
       "        \n",
       "        \n",
       "    ⎛ 4⎞\n",
       " + O⎝δ ⎠\n",
       "        "
      ]
     },
     "metadata": {},
     "output_type": "display_data"
    }
   ],
   "source": [
    "eH = exp(d*H)\n",
    "eK = exp(d*K)\n",
    "eK2 = exp(d*K/2)\n",
    "eV = exp(d*V)\n",
    "display(Eq(eH - eK*eV, series(eH - eK*eV, d, 0, 3)))\n",
    "display(Eq(eH - eK2*eV*eK2, series(eH - eK2*eV*eK2, d, 0, 4)))"
   ]
  },
  {
   "cell_type": "markdown",
   "metadata": {},
   "source": [
    "Here we see that the time-reversal invariant formula must be used to obtain a cubic order step."
   ]
  },
  {
   "cell_type": "markdown",
   "metadata": {},
   "source": [
    "### Complications"
   ]
  },
  {
   "cell_type": "markdown",
   "metadata": {},
   "source": [
    "This error analysis presupposes that one can compute each of the factors to accuracy $\\order(\\delta^3)$ otherwise this error will dominate.  This faces two complications:\n",
    "\n",
    "* $\\op{V}_t$ depends on time.\n",
    "* $\\op{V}[\\psi]$ depends on $\\psi$.\n",
    "\n",
    "In both these cases, one must expand $\\op{V}(t+\\delta) = \\op{V} + \\dot{\\op{V}}\\delta + \\ddot{\\op{V}}\\delta^2/2 + \\cdots$ and express the step in terms of $\\dot{\\psi}(t) = \\op{V}(t)\\cdot{\\psi}(t)$ (considering here only the evolution with $\\op{V}$).  This can be expanded:\n",
    "\n",
    "$$\n",
    "  \\psi(t+\\delta) = \\psi + \\delta \\dot{\\psi} + \\frac{\\delta^2}{2} \\ddot{\\psi} \n",
    "    + \\frac{\\delta^3}{3!} \\dddot{\\psi} + \\order(\\delta^4) \n",
    "  = \\left(\\op{1} + \\delta \\op{V} + \\frac{\\delta^2}{2}(\\dot{\\op{V}} + \\op{V}^2)\n",
    "  + \\frac{\\delta^3}{3!}(\\ddot{\\op{V}} + 2\\dot{\\op{V}}\\op{V} + \\op{V}\\dot{\\op{V}} + \\op{V}^3) + \\order(\\delta^4)\\right)\\psi\n",
    "$$"
   ]
  },
  {
   "cell_type": "code",
   "execution_count": 18,
   "metadata": {
    "collapsed": false
   },
   "outputs": [
    {
     "data": {
      "image/png": "[encoded data removed]",
      "text/latex": [
       "$$\\frac{\\delta^{3}}{6} \\left(V \\dot{V} + \\left(V\\right)^{3} + \\ddot{V} + 2 \\dot{V} V\\right) + \\frac{\\delta^{2}}{2} \\left(\\left(V\\right)^{2} + \\dot{V}\\right) + \\delta V + 1$$"
      ],
      "text/plain": [
       " 3 ⎛             3                         ⎞    2 ⎛ 2          ⎞          \n",
       "δ ⋅⎝V⋅\\dot{V} + V  + \\ddot{V} + 2⋅\\dot{V}⋅V⎠   δ ⋅⎝V  + \\dot{V}⎠          \n",
       "──────────────────────────────────────────── + ───────────────── + δ⋅V + 1\n",
       "                     6                                 2                  "
      ]
     },
     "execution_count": 18,
     "metadata": {},
     "output_type": "execute_result"
    }
   ],
   "source": [
    "dV = Operator('\\dot{V}')\n",
    "ddV = Operator('\\ddot{V}')\n",
    "dddV = Operator('\\dddot{V}')\n",
    "\n",
    "def get_V(delta):\n",
    "    return V + dV*delta + ddV*delta**2/2 + dddV*delta**3/6\n",
    "\n",
    "def get_psi_psi(delta):\n",
    "    \"\"\"This is psi(t+delta)/psi(t) in matrix form\"\"\"\n",
    "    return (1 + delta*V + delta**2/2*(dV + V*V) \n",
    "        + delta**3/6*(ddV + 2*dV*V + V*dV + V**3))\n",
    "\n",
    "psi_psi = get_psi_psi(d)\n",
    "psi_psi"
   ]
  },
  {
   "cell_type": "markdown",
   "metadata": {},
   "source": [
    "Here we see that simply evolving with $\\op{V}(t)$ for the whole step yields an error of $\\order(\\delta^2)$ unless $\\dot{\\op{V}} = 0$:"
   ]
  },
  {
   "cell_type": "code",
   "execution_count": 19,
   "metadata": {
    "collapsed": false
   },
   "outputs": [
    {
     "data": {
      "image/png": "[encoded data removed]",
      "text/latex": [
       "$$- \\frac{\\delta^{2} \\dot{V}}{2} + \\mathcal{O}\\left(\\delta^{3}\\right)$$"
      ],
      "text/plain": [
       "   2                \n",
       "  δ ⋅\\dot{V}    ⎛ 3⎞\n",
       "- ────────── + O⎝δ ⎠\n",
       "      2             "
      ]
     },
     "execution_count": 19,
     "metadata": {},
     "output_type": "execute_result"
    }
   ],
   "source": [
    "series(exp(d*V) - psi_psi, d, 0, 3)"
   ]
  },
  {
   "cell_type": "markdown",
   "metadata": {},
   "source": [
    "One solution is to use the midpoint: $e^{\\delta(V_t + V_{t+\\delta})/2}$:"
   ]
  },
  {
   "cell_type": "code",
   "execution_count": 20,
   "metadata": {
    "collapsed": false
   },
   "outputs": [
    {
     "data": {
      "image/png": "[encoded data removed]",
      "text/latex": [
       "$$\\delta^{3} \\left(\\frac{V \\dot{V}}{12} - \\frac{\\ddot{V}}{24} - \\frac{\\dot{V} V}{12}\\right) + \\mathcal{O}\\left(\\delta^{4}\\right)$$"
      ],
      "text/plain": [
       " 3 ⎛V⋅\\dot{V}   \\ddot{V}   \\dot{V}⋅V⎞    ⎛ 4⎞\n",
       "δ ⋅⎜───────── - ──────── - ─────────⎟ + O⎝δ ⎠\n",
       "   ⎝    12         24          12   ⎠        "
      ]
     },
     "execution_count": 20,
     "metadata": {},
     "output_type": "execute_result"
    }
   ],
   "source": [
    "series(exp(d*get_V(d/2)) - psi_psi, d, 0, 4)"
   ]
  },
  {
   "cell_type": "markdown",
   "metadata": {},
   "source": [
    "Performing a non-linear expansion in the dependence on $\\mat{V}[\\psi]$ is more challenging since expanding in variations requires additional index summations."
   ]
  },
  {
   "cell_type": "markdown",
   "metadata": {},
   "source": [
    "# Numerical Example"
   ]
  },
  {
   "cell_type": "code",
   "execution_count": 21,
   "metadata": {
    "collapsed": false
   },
   "outputs": [
    {
     "name": "stdout",
     "output_type": "stream",
     "text": [
      "Populating the interactive namespace from numpy and matplotlib\n"
     ]
    }
   ],
   "source": [
    "%pylab inline --no-import-all\n",
    "from scipy.linalg import expm\n",
    "from scipy.integrate import odeint\n",
    "\n",
    "class Problem(object):\n",
    "    def __init__(self, N=2, diagonal=False, nonlinear=True, timefactor=0.1, \n",
    "                 t0=0.0, T=0.1, Ntslim=12):\n",
    "        self.shape = (N, N)\n",
    "        self.nonlinear = nonlinear\n",
    "        self.diagonal = diagonal\n",
    "        self.timefactor = timefactor\n",
    "        np.random.seed(1)\n",
    "        self.K = np.random.random(self.shape) - 0.5\n",
    "        self.V = np.random.random(self.shape) - 0.5\n",
    "        self.psi0 = np.random.random(N) - 0.5\n",
    "        self.t0 = t0\n",
    "        self.T = T\n",
    "        self.Nts = 2**np.arange(4, Ntslim)\n",
    "\n",
    "    def get_V(self, psi, t):\n",
    "        V = 1*self.V\n",
    "        if self.nonlinear:\n",
    "            V += np.diag(abs(psi)**2)\n",
    "        if self.diagonal:\n",
    "            V = np.diag(np.diag(V))\n",
    "        V *= 1.0 + self.timefactor*np.cos(2*np.pi * t/(self.T-self.t0))\n",
    "        return V\n",
    "\n",
    "    def compute_dy(self, psi, t):\n",
    "        return (self.K + self.get_V(psi=psi, t=t)).dot(psi)\n",
    "        \n",
    "    def exact(self, atol=1e-14, rtol=1e-16, mxstep=50000):\n",
    "        dtype = self.K.dtype\n",
    "        x0 = self.psi0.view(dtype=float)\n",
    "        def f(x, t):\n",
    "            return self.compute_dy(x.view(dtype=dtype), t).view(dtype=float)\n",
    "\n",
    "        res = odeint(\n",
    "            f, x0, [self.t0, self.T],\n",
    "            atol=atol, rtol=rtol, mxstep=mxstep)[-1]\n",
    "\n",
    "        return res.view(dtype=dtype)\n",
    "\n",
    "    def get_errs(self, evolve):\n",
    "        errs = []\n",
    "        exact = self.exact()\n",
    "        for Nt in self.Nts:\n",
    "            psi = evolve(Nt, p=self)\n",
    "            errs.append(abs(psi - exact).max())\n",
    "        return np.asarray(errs)\n",
    "\n",
    "def evolve_KVK1(Nt, p):\n",
    "    \"\"\"No good for non-linear functionals.\"\"\"\n",
    "    psi = 1*p.psi0\n",
    "    t = 1*p.t0\n",
    "    dt = p.T/Nt\n",
    "    for N in xrange(Nt):\n",
    "        psi = expm(0.5*dt * p.K).dot(psi)\n",
    "        t += 0.5*dt\n",
    "        psi = expm(dt*p.get_V(psi=psi, t=t)).dot(psi)\n",
    "        t += 0.5*dt\n",
    "        psi = expm(0.5*dt * p.K).dot(psi)\n",
    "    assert np.allclose(t, p.T-p.t0)\n",
    "    return psi\n",
    "\n",
    "def evolve_VKV1(Nt, p):\n",
    "    \"\"\"No good for non-linear functionals.\"\"\"\n",
    "    psi = 1*p.psi0\n",
    "    t = 1*p.t0\n",
    "    dt = p.T/Nt\n",
    "    for N in xrange(Nt):\n",
    "        t += 0.25*dt\n",
    "        psi = expm(0.5*dt*p.get_V(psi=psi, t=t)).dot(psi)\n",
    "        t += 0.25*dt\n",
    "        psi = expm(dt * p.K).dot(psi)\n",
    "        t += 0.25*dt        \n",
    "        psi = expm(0.5*dt*p.get_V(psi=psi, t=t)).dot(psi)\n",
    "        t += 0.25*dt\n",
    "    assert np.allclose(t, p.T-p.t0)\n",
    "    return psi\n",
    "\n",
    "def evolve_KVK2(Nt, p):\n",
    "    \"\"\"Faster version of KVK1.\"\"\"\n",
    "    psi = 1*p.psi0\n",
    "    t = 1*p.t0\n",
    "    dt = p.T/Nt\n",
    "    for N in xrange(Nt):\n",
    "        if N == 0:\n",
    "            psi = expm(0.5*dt * p.K).dot(psi)\n",
    "            t += 0.5*dt\n",
    "        else:\n",
    "            psi = expm(dt * p.K).dot(psi)\n",
    "            t += dt\n",
    "        \n",
    "        psi = expm(dt*p.get_V(psi=psi, t=t)).dot(psi)\n",
    "\n",
    "    psi = expm(0.5*dt * p.K).dot(psi)\n",
    "    t += 0.5*dt\n",
    "    assert np.allclose(t, p.T-p.t0)\n",
    "    return psi\n",
    "\n",
    "def evolve_G(Nt, p):\n",
    "    \"\"\"Gabriel's implementation\"\"\"\n",
    "    psi = 1*p.psi0\n",
    "    t = 1*p.t0\n",
    "    dt = p.T/Nt\n",
    "    for N in xrange(Nt):\n",
    "        psi0 = psi.copy()\n",
    "        \n",
    "        psi = expm(0.5*dt*p.get_V(psi=psi, t=t)).dot(psi)\n",
    "        psi = expm(dt * p.K).dot(psi)\n",
    "        psi1 = expm(0.5*dt*p.get_V(psi=psi, t=t+dt)).dot(psi)\n",
    "        psi1 = (psi1 + psi0)/2.0\n",
    "        psi = psi0\n",
    "        \n",
    "        psi = expm(0.5*dt*p.get_V(psi=psi1, t=t)).dot(psi)\n",
    "        psi = expm(dt * p.K).dot(psi)\n",
    "        psi = expm(0.5*dt*p.get_V(psi=psi1, t=t+dt)).dot(psi)\n",
    "\n",
    "        t += dt\n",
    "    assert np.allclose(t, p.T-p.t0)\n",
    "    return psi\n",
    "\n",
    "def evolve_KVKM1(Nt, p):\n",
    "    \"\"\"Non-linear safe version of KVK1.\"\"\"\n",
    "    psi = 1*p.psi0\n",
    "    t = 1*p.t0\n",
    "    dt = p.T/Nt\n",
    "    for N in xrange(Nt):\n",
    "        if N == 0:\n",
    "            psi = expm(0.5*dt * p.K).dot(psi)\n",
    "            t += 0.5*dt\n",
    "        else:\n",
    "            psi = expm(dt * p.K).dot(psi)\n",
    "            t += dt\n",
    "            \n",
    "        psi0 = psi.copy()\n",
    "        psi = expm(dt*p.get_V(psi=psi, t=t)).dot(psi)\n",
    "        psi1 = (psi + psi0)/2.0\n",
    "        psi = expm(dt*p.get_V(psi=psi1, t=t)).dot(psi0)\n",
    "\n",
    "    psi = expm(0.5*dt * p.K).dot(psi)\n",
    "    t += 0.5*dt\n",
    "    \n",
    "    assert np.allclose(t, p.T-p.t0)\n",
    "    return psi\n",
    "\n",
    "def evolve_KVKM2(Nt, p):\n",
    "    \"\"\"This version subdivides the potential calculation to save\n",
    "    memory, but does not perform very well.\"\"\"\n",
    "    psi = 1*p.psi0\n",
    "    t = 1*p.t0\n",
    "    dt = p.T/Nt\n",
    "    NV = 2\n",
    "    for N in xrange(Nt):\n",
    "        if N == 0:\n",
    "            psi = expm(0.5*dt * p.K).dot(psi)\n",
    "            t += 0.5*dt\n",
    "        else:\n",
    "            psi = expm(dt * p.K).dot(psi)\n",
    "            t += dt\n",
    "        \n",
    "        for _n in range(NV):\n",
    "            psi = expm(dt/NV * p.get_V(psi=psi, t=t)).dot(psi)\n",
    "\n",
    "    psi = expm(0.5*dt * p.K).dot(psi)\n",
    "    t += 0.5*dt\n",
    "    assert np.allclose(t, p.T-p.t0)\n",
    "    return psi\n",
    "\n",
    "def evolve_KVKM3(Nt, p):\n",
    "    \"\"\"This version uses a linear combination of the potentials rather \n",
    "    than of the states and evolves back in time by half a step.\"\"\"\n",
    "    psi = 1*p.psi0\n",
    "    t = 1*p.t0\n",
    "    dt = p.T/Nt\n",
    "    for N in xrange(Nt):\n",
    "        if N == 0:\n",
    "            psi = expm(0.5*dt * p.K).dot(psi)\n",
    "            t += 0.5*dt\n",
    "        else:\n",
    "            psi = expm(dt * p.K).dot(psi)\n",
    "            t += dt\n",
    "        \n",
    "        V0 = p.get_V(psi=psi, t=t)\n",
    "        psi = expm(dt*V0).dot(psi)\n",
    "        V1 = p.get_V(psi=psi, t=t)\n",
    "        psi = expm(0.5*dt * (V1 - V0)).dot(psi)\n",
    "\n",
    "    psi = expm(0.5*dt * p.K).dot(psi)\n",
    "    t += 0.5*dt\n",
    "    \n",
    "    assert np.allclose(t, p.T-p.t0)\n",
    "    return psi\n",
    "\n",
    "evolvers = [locals()[_f] for _f in list(locals())\n",
    "            if _f.startswith('evolve_')]\n",
    "\n",
    "good_evolvers = [evolve_G, evolve_KVKM1, evolve_KVKM3]"
   ]
  },
  {
   "cell_type": "markdown",
   "metadata": {},
   "source": [
    "First we test all the evolvers with a time-dependent but linear potential:"
   ]
  },
  {
   "cell_type": "code",
   "execution_count": 22,
   "metadata": {
    "collapsed": false
   },
   "outputs": [
    {
     "data": {
      "text/plain": [
       "<matplotlib.legend.Legend at 0x115f17150>"
      ]
     },
     "execution_count": 22,
     "metadata": {},
     "output_type": "execute_result"
    },
    {
     "data": {
      "image/png": "[encoded data removed]",
      "text/plain": [
       "<matplotlib.figure.Figure at 0x1110a5150>"
      ]
     },
     "metadata": {},
     "output_type": "display_data"
    }
   ],
   "source": [
    "p = Problem(nonlinear=False, diagonal=False, timefactor=1.0, Ntslim=8)\n",
    "for _n, evolve in enumerate(evolvers):\n",
    "    label = evolve.func_code.co_name[7:]\n",
    "    errs = p.get_errs(evolve)\n",
    "    plt.loglog(p.Nts, errs, ls='--', ms='+', label=label)\n",
    "    if _n == 0:\n",
    "        plt.loglog(p.Nts, errs[0]*(1.0*p.Nts[0]/p.Nts)**2, 'g:', label=r\"$Nt^{-2}$\")\n",
    "plt.legend(loc='best')"
   ]
  },
  {
   "cell_type": "markdown",
   "metadata": {},
   "source": [
    "Some approaches fail if the function contains non-linear terms:"
   ]
  },
  {
   "cell_type": "code",
   "execution_count": 23,
   "metadata": {
    "collapsed": false
   },
   "outputs": [
    {
     "data": {
      "text/plain": [
       "<matplotlib.legend.Legend at 0x1168523d0>"
      ]
     },
     "execution_count": 23,
     "metadata": {},
     "output_type": "execute_result"
    },
    {
     "data": {
      "image/png": "[encoded data removed]",
      "text/plain": [
       "<matplotlib.figure.Figure at 0x115cab0d0>"
      ]
     },
     "metadata": {},
     "output_type": "display_data"
    }
   ],
   "source": [
    "p = Problem(nonlinear=True, diagonal=False, Ntslim=8)\n",
    "for _n, evolve in enumerate(evolvers):\n",
    "    label = evolve.func_code.co_name[7:]\n",
    "    errs = p.get_errs(evolve)\n",
    "    plt.loglog(p.Nts, errs, ls='--', ms='+', label=label, alpha=0.5)\n",
    "    if _n == 0:\n",
    "        plt.loglog(p.Nts, errs[0]*(1.0*p.Nts[0]/p.Nts)**2, 'g:', label=r\"$Nt^{-2}$\")\n",
    "plt.legend(loc='best')"
   ]
  },
  {
   "cell_type": "markdown",
   "metadata": {},
   "source": [
    "Here are the good evolvers."
   ]
  },
  {
   "cell_type": "code",
   "execution_count": 24,
   "metadata": {
    "collapsed": false
   },
   "outputs": [
    {
     "data": {
      "text/plain": [
       "<matplotlib.legend.Legend at 0x11620cc50>"
      ]
     },
     "execution_count": 24,
     "metadata": {},
     "output_type": "execute_result"
    },
    {
     "data": {
      "image/png": "[encoded data removed]",
      "text/plain": [
       "<matplotlib.figure.Figure at 0x115efd910>"
      ]
     },
     "metadata": {},
     "output_type": "display_data"
    }
   ],
   "source": [
    "p = Problem(nonlinear=True, diagonal=False, Ntslim=8)\n",
    "for _n, evolve in enumerate(good_evolvers):\n",
    "    label = evolve.func_code.co_name[7:]\n",
    "    errs = p.get_errs(evolve)\n",
    "    plt.loglog(p.Nts, errs, ls='--', ms='+', label=label, alpha=0.5)\n",
    "    if _n == 0:\n",
    "        plt.loglog(p.Nts, errs[0]*(1.0*p.Nts[0]/p.Nts)**2, 'g:', label=r\"$Nt^{-2}$\")\n",
    "plt.legend(loc='best')"
   ]
  },
  {
   "cell_type": "markdown",
   "metadata": {},
   "source": [
    "## Unitary Evolution"
   ]
  },
  {
   "cell_type": "markdown",
   "metadata": {},
   "source": [
    "Here we test the same evolvers with unitary evolution."
   ]
  },
  {
   "cell_type": "code",
   "execution_count": 25,
   "metadata": {
    "collapsed": false
   },
   "outputs": [
    {
     "name": "stdout",
     "output_type": "stream",
     "text": [
      "Populating the interactive namespace from numpy and matplotlib\n"
     ]
    }
   ],
   "source": [
    "%pylab inline --no-import-all\n",
    "from scipy.linalg import expm\n",
    "from scipy.integrate import odeint\n",
    "\n",
    "class ProblemUnitary(Problem):\n",
    "    def __init__(self, N=2, diagonal=False, nonlinear=True, timefactor=0.1, \n",
    "                 t0=0.0, T=0.1, Ntslim=12, density_err=False):\n",
    "        self.shape = (N, N)\n",
    "        self.nonlinear = nonlinear\n",
    "        self.diagonal = diagonal\n",
    "        self.timefactor = timefactor\n",
    "        np.random.seed(1)\n",
    "        K = np.random.random(self.shape) - 0.5 + 1j*(np.random.random(self.shape) - 0.5)\n",
    "        self.K = (K + K.conj().T)/1j\n",
    "        V = np.random.random(self.shape) - 0.5 + 1j*(np.random.random(self.shape) - 0.5)\n",
    "        self.V = (V + V.conj().T)/1j\n",
    "        self.psi0 = np.random.random(N) - 0.5 + 1j*(np.random.random(N) - 0.5)\n",
    "        self.t0 = t0\n",
    "        self.T = T\n",
    "        self.Nts = 2**np.arange(4, Ntslim)\n",
    "        self.density_err = density_err\n",
    "\n",
    "    def get_V(self, psi, t):\n",
    "        V = 1*self.V\n",
    "        if self.nonlinear:\n",
    "            V += np.diag(abs(psi)**2)/1j\n",
    "        if self.diagonal:\n",
    "            V = np.diag(np.diag(V))\n",
    "        V *= 1.0 + self.timefactor*np.cos(2*np.pi * t/(self.T-self.t0))\n",
    "        return V\n",
    "    \n",
    "    def get_errs(self, evolve):\n",
    "        errs = []\n",
    "        exact = self.exact()\n",
    "        for Nt in self.Nts:\n",
    "            psi = evolve(Nt, p=self)\n",
    "            if self.density_err:\n",
    "                errs.append(abs((abs(psi)**2 - abs(exact)**2)).max())\n",
    "            else:\n",
    "                errs.append(abs(psi -exact).max())\n",
    "                \n",
    "        return np.asarray(errs)"
   ]
  },
  {
   "cell_type": "code",
   "execution_count": 26,
   "metadata": {
    "collapsed": false
   },
   "outputs": [
    {
     "data": {
      "text/plain": [
       "<matplotlib.legend.Legend at 0x116962310>"
      ]
     },
     "execution_count": 26,
     "metadata": {},
     "output_type": "execute_result"
    },
    {
     "data": {
      "image/png": "[encoded data removed]",
      "text/plain": [
       "<matplotlib.figure.Figure at 0x117d84f10>"
      ]
     },
     "metadata": {},
     "output_type": "display_data"
    }
   ],
   "source": [
    "p = ProblemUnitary(nonlinear=True, diagonal=True, Ntslim=8, density_err=True)\n",
    "offset = 1.2\n",
    "for _n, evolve in enumerate(good_evolvers):\n",
    "    label = evolve.func_code.co_name[7:]\n",
    "    errs = p.get_errs(evolve)*offset**_n\n",
    "    plt.loglog(p.Nts, errs, ls='--', ms='+', label=label, alpha=0.5)\n",
    "    if _n == 0:\n",
    "        plt.loglog(p.Nts, errs[0]*(1.0*p.Nts[0]/p.Nts)**2, 'g:', label=r\"$Nt^{-2}$\")\n",
    "plt.legend(loc='best')"
   ]
  },
  {
   "cell_type": "markdown",
   "metadata": {},
   "source": [
    "Note that Gabirel's approach does gain an order of magnitude improvement over the others for diagonal problems, but not for the generic case."
   ]
  },
  {
   "cell_type": "code",
   "execution_count": 27,
   "metadata": {
    "collapsed": false
   },
   "outputs": [
    {
     "data": {
      "text/plain": [
       "<matplotlib.legend.Legend at 0x117890350>"
      ]
     },
     "execution_count": 27,
     "metadata": {},
     "output_type": "execute_result"
    },
    {
     "data": {
      "image/png": "[encoded data removed]",
      "text/plain": [
       "<matplotlib.figure.Figure at 0x115a4a350>"
      ]
     },
     "metadata": {},
     "output_type": "display_data"
    }
   ],
   "source": [
    "p = ProblemUnitary(nonlinear=True, diagonal=False, Ntslim=8, density_err=True)\n",
    "offset = 1.2\n",
    "for _n, evolve in enumerate(good_evolvers):\n",
    "    label = evolve.func_code.co_name[7:]\n",
    "    errs = p.get_errs(evolve)*offset**_n\n",
    "    plt.loglog(p.Nts, errs, ls='--', ms='+', label=label, alpha=0.5)\n",
    "    if _n == 0:\n",
    "        plt.loglog(p.Nts, errs[0]*(1.0*p.Nts[0]/p.Nts)**2, 'g:', label=r\"$Nt^{-2}$\")\n",
    "plt.legend(loc='best')"
   ]
  },
  {
   "cell_type": "markdown",
   "metadata": {},
   "source": [
    " Also, this gain is only seen in the density differences, not in the wavefunction differences:"
   ]
  },
  {
   "cell_type": "code",
   "execution_count": 28,
   "metadata": {
    "collapsed": false
   },
   "outputs": [
    {
     "data": {
      "text/plain": [
       "<matplotlib.legend.Legend at 0x1183350d0>"
      ]
     },
     "execution_count": 28,
     "metadata": {},
     "output_type": "execute_result"
    },
    {
     "data": {
      "image/png": "[encoded data removed]",
      "text/plain": [
       "<matplotlib.figure.Figure at 0x1153a1f90>"
      ]
     },
     "metadata": {},
     "output_type": "display_data"
    }
   ],
   "source": [
    "p = ProblemUnitary(nonlinear=True, diagonal=True, Ntslim=8, density_err=False)\n",
    "offset = 1.2\n",
    "for _n, evolve in enumerate(good_evolvers):\n",
    "    label = evolve.func_code.co_name[7:]\n",
    "    errs = p.get_errs(evolve)*offset**_n\n",
    "    plt.loglog(p.Nts, errs, ls='--', ms='+', label=label, alpha=0.5)\n",
    "    if _n == 0:\n",
    "        plt.loglog(p.Nts, errs[0]*(1.0*p.Nts[0]/p.Nts)**2, 'g:', label=r\"$Nt^{-2}$\")\n",
    "plt.legend(loc='best')"
   ]
  },
  {
   "cell_type": "code",
   "execution_count": 29,
   "metadata": {
    "collapsed": false
   },
   "outputs": [
    {
     "data": {
      "text/plain": [
       "<matplotlib.legend.Legend at 0x117d5d910>"
      ]
     },
     "execution_count": 29,
     "metadata": {},
     "output_type": "execute_result"
    },
    {
     "data": {
      "image/png": "[encoded data removed]",
      "text/plain": [
       "<matplotlib.figure.Figure at 0x118706fd0>"
      ]
     },
     "metadata": {},
     "output_type": "display_data"
    }
   ],
   "source": [
    "p = ProblemUnitary(nonlinear=True, diagonal=False, Ntslim=8, density_err=False)\n",
    "offset = 1.3\n",
    "for _n, evolve in enumerate(good_evolvers):\n",
    "    label = evolve.func_code.co_name[7:]\n",
    "    errs = p.get_errs(evolve)*offset**_n\n",
    "    plt.loglog(p.Nts, errs, ls='--', ms='+', label=label, alpha=0.5)\n",
    "    if _n == 0:\n",
    "        plt.loglog(p.Nts, errs[0]*(1.0*p.Nts[0]/p.Nts)**2, 'g:', label=r\"$Nt^{-2}$\")\n",
    "plt.legend(loc='best')"
   ]
  },
  {
   "cell_type": "markdown",
   "metadata": {},
   "source": [
    "# Conclusion"
   ]
  },
  {
   "cell_type": "markdown",
   "metadata": {},
   "source": [
    "We conclude that performing the step as follows will preserve the convergence in the presence of non-linear and off-diagonal terms:\n",
    "\n",
    "$$\n",
    "  e^{\\mat{H}\\delta} \\approx e^{\\mat{K}\\delta/2}e^{V\\delta}e^{\\mat{K}\\delta/2}\n",
    "$$\n",
    "\n",
    "where we perform the step $e^{\\mat{V}\\delta}$ as follows:\n",
    "\n",
    "$$\n",
    "   \\psi_1 = e^{\\mat{V}[\\psi_0]\\delta}\\psi_0, \\qquad\n",
    "   \\psi = e^{\\mat{V}\\left[\\tfrac{\\psi_0+\\psi_1}{2}\\right]\\delta}\\psi_0.\n",
    "$$\n",
    "\n",
    "All potentials are evaluated at $t$ in the midpoint of the interval.\n",
    "\n",
    "Some problems do not need the corrective step (i.e. the linear Schrödinger equation), so we should provide a way to turn it off (probably in the evolver).  Finally, we allow for a specialization where the non-linear portion of the potential can be stored more efficiently than an extra copy of the whole state.  In this latter case.  This is the case with fermionic DFTs for example where the \"state\" consists of thousands of single-particle states while the potential is a single function."
   ]
  }
 ],
 "metadata": {
  "kernelspec": {
   "display_name": "Python 2",
   "language": "python",
   "name": "python2"
  },
  "language_info": {
   "codemirror_mode": {
    "name": "ipython",
    "version": 2
   },
   "file_extension": ".py",
   "mimetype": "text/x-python",
   "name": "python",
   "nbconvert_exporter": "python",
   "pygments_lexer": "ipython2",
   "version": "2.7.10"
  }
 },
 "nbformat": 4,
 "nbformat_minor": 0
}
