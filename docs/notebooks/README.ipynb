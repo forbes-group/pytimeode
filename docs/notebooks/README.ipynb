{
 "cells": [
  {
   "cell_type": "markdown",
   "metadata": {},
   "source": [
    "#PyTimeODE"
   ]
  },
  {
   "cell_type": "markdown",
   "metadata": {},
   "source": [
    "Dynamical evolution of complex systems.\n",
    "\n",
    "This package provides an interface to a set of ODE solvers for solving dynamical time-evolution problems. The original application was quantum dynamics via Gross-Pitaevski equations (GPE) and superfluid density functional theory (TDDFT), but the code is quite general and should be able to be easily used for a variety of problems.\n",
    "\n",
    "Currently the codes only use fixed time-step method (not adaptive)."
   ]
  },
  {
   "cell_type": "markdown",
   "metadata": {},
   "source": [
    "#Usage"
   ]
  },
  {
   "cell_type": "markdown",
   "metadata": {},
   "source": [
    "Presently you must manually install the ``pytimeode`` package or include it with your project.  I currently recommend including it as a subrepository managed by [myrepos](http://myrepos.branchable.com).  For example, I typically use the following line in a top-level ``.mrconfig`` file (use the second checkout if you access bitbucket with ssh keys):\n",
    "\n",
    "```\n",
    "[_ext/pytimeode]\n",
    "checkout = hg clone 'https://bitbucket.org/mforbes/pytimeode' 'pytimeode'\n",
    "#checkout = hg clone 'ssh://hg@bitbucket.org/mforbes/pytimeode' 'pytimeode'\n",
    "```\n",
    "\n",
    "Then running ``mr checkout`` from the toplevel will pull and update the latest version of ``pytimeode`` and put it in ``_ext/pytimeode``.  I then create and add a symlink to this in the top level (and add ``_ext`` to my ``.hgignore`` file) so that I can use the ``pytimeode`` module directly:\n",
    "\n",
    "```bash\n",
    "ln -s _ext/pytimeode/pytimeode pytimeode\n",
    "hg add pytimeode .mrconfig .hgignore\n",
    "```\n",
    "\n",
    "At a later date, when the package is release, it will be able to be installed with ``pip install pytimeode``."
   ]
  },
  {
   "cell_type": "markdown",
   "metadata": {},
   "source": [
    "#Development Instructions"
   ]
  },
  {
   "cell_type": "markdown",
   "metadata": {},
   "source": [
    "If you are a developer of this package, there are a few things to be aware of.\n",
    "\n",
    "1. If you modify the notebooks in ``docs/notebooks`` then you may need to regenerate some of the ``.rst`` files and commit them so they appear on bitbucket.  This is done automatically by the ``pre-commit`` hook in ``.hgrc`` if you include this in your ``.hg/hgrc`` file with a line like:\n",
    "\n",
    "    ```\n",
    "    %include ../.hgrc\n",
    "    ```\n",
    "\n",
    "**Security Warning:** if you do this, be sure to inspect the ``.hgrc`` file carefully to make sure that no one inserts malicious code."
   ]
  },
  {
   "cell_type": "code",
   "execution_count": null,
   "metadata": {
    "collapsed": true
   },
   "outputs": [],
   "source": []
  }
 ],
 "metadata": {
  "kernelspec": {
   "display_name": "Python 2",
   "name": "python2"
  },
  "language_info": {
   "codemirror_mode": {
    "name": "ipython",
    "version": 2
   },
   "file_extension": ".py",
   "mimetype": "text/x-python",
   "name": "python",
   "nbconvert_exporter": "python",
   "pygments_lexer": "ipython2",
   "version": "2.7.9"
  }
 },
 "nbformat": 4,
 "nbformat_minor": 0
}
