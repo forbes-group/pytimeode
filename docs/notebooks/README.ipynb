{
 "cells": [
  {
   "cell_type": "markdown",
   "metadata": {},
   "source": [
    "#Table of Contents\n",
    "* [1. PyTimeODE](#1.-PyTimeODE)\n",
    "* [2. Installing](#2.-Installing)\n",
    "* [3. Usage](#3.-Usage)\n",
    "\t* [3.1 Adams-Bashforth-Milne (ABM)](#3.1-Adams-Bashforth-Milne-%28ABM%29)\n",
    "\t* [3.2 Split-Operator Evolution](#3.2-Split-Operator-Evolution)\n",
    "* [4. Development Instructions](#4.-Development-Instructions)\n"
   ]
  },
  {
   "cell_type": "markdown",
   "metadata": {},
   "source": [
    "# 1. PyTimeODE"
   ]
  },
  {
   "cell_type": "markdown",
   "metadata": {},
   "source": [
    "Dynamical evolution of complex systems.\n",
    "\n",
    "This package provides an interface to a set of ODE solvers for solving dynamical time-evolution problems. The original application was quantum dynamics via Gross-Pitaevski equations (GPE) and superfluid density functional theory (TDDFT), but the code is quite general and should be able to be easily used for a variety of problems.\n",
    "\n",
    "Currently the codes only use fixed time-step method (not adaptive)."
   ]
  },
  {
   "cell_type": "markdown",
   "metadata": {},
   "source": [
    "# 2. Installing"
   ]
  },
  {
   "cell_type": "markdown",
   "metadata": {},
   "source": [
    "Presently you must manually install the ``pytimeode`` package or include it with your project.  I currently recommend including it as a subrepository managed by [myrepos](http://myrepos.branchable.com).  For example, I typically use the following line in a top-level ``.mrconfig`` file (use the second checkout if you access bitbucket with ssh keys):\n",
    "\n",
    "```\n",
    "[_ext/pytimeode]\n",
    "checkout = hg clone 'https://bitbucket.org/mforbes/pytimeode' 'pytimeode'\n",
    "#checkout = hg clone 'ssh://hg@bitbucket.org/mforbes/pytimeode' 'pytimeode'\n",
    "```"
   ]
  },
  {
   "cell_type": "markdown",
   "metadata": {},
   "source": [
    "Then running ``mr checkout`` from the toplevel will pull and update the latest version of ``pytimeode`` and put it in ``_ext/pytimeode``.  I then create and add a symlink to this in the top level (and add ``_ext`` to my ``.hgignore`` file) so that I can use the ``pytimeode`` module directly:\n",
    "\n",
    "```bash\n",
    "ln -s _ext/pytimeode/pytimeode pytimeode\n",
    "hg add pytimeode .mrconfig .hgignore\n",
    "```"
   ]
  },
  {
   "cell_type": "markdown",
   "metadata": {},
   "source": [
    "At a later date, when the package is release, it will be able to be installed with ``pip install pytimeode``."
   ]
  },
  {
   "cell_type": "markdown",
   "metadata": {},
   "source": [
    "# 3. Usage"
   ]
  },
  {
   "cell_type": "markdown",
   "metadata": {},
   "source": [
    "To use the solvers, you must define a class that imeplements one of the interfaces defined in ``pytimeode.interfaces``.  At a minimum, you must provide the methods required by ``IStateMinimal``.  This gives the evolvers the ability to manipulate your state, making copies, scaling the state, etc.  Addional require functionality by the ``IState`` interface can be obtained from these by inheriting from ``StateMixin`` (though you might eventually like to provide custom implementations of the ``IState`` interface for performance.)"
   ]
  },
  {
   "cell_type": "code",
   "execution_count": 1,
   "metadata": {
    "collapsed": false
   },
   "outputs": [
    {
     "data": {
      "text/html": [
       "<!DOCTYPE html PUBLIC \"-//W3C//DTD XHTML 1.0 Transitional//EN\" \"http://www.w3.org/TR/xhtml1/DTD/xhtml1-transitional.dtd\">\n",
       "<html xmlns=\"http://www.w3.org/1999/xhtml\" xml:lang=\"en\" lang=\"en\">\n",
       "<head>\n",
       "<meta http-equiv=\"Content-Type\" content=\"text/html; charset=utf-8\" />\n",
       "<meta name=\"generator\" content=\"Docutils 0.12: http://docutils.sourceforge.net/\" />\n",
       "<title></title>\n",
       "\n",
       "<div class=\"document\">\n",
       "\n",
       "\n",
       "<p><tt class=\"docutils literal\">IStateMinimal</tt></p>\n",
       "<blockquote>\n",
       "<p>Minimal interface required for state objects.  This will not satisfy all\n",
       "uses of a state.</p>\n",
       "<p>Attributes:</p>\n",
       "<blockquote>\n",
       "<p><tt class=\"docutils literal\">dtype</tt> -- Return the dtype of the underlying state.  If this is\n",
       "real, then it is assumed that the states will always be\n",
       "real and certain optimizations may take place.</p>\n",
       "<p><tt class=\"docutils literal\">t</tt> -- Time at which state is valid.</p>\n",
       "<p><tt class=\"docutils literal\">writeable</tt> -- Set to <cite>True</cite> if the state is writeable, or\n",
       "<cite>False</cite> if the state should only be read.</p>\n",
       "</blockquote>\n",
       "<p>Methods:</p>\n",
       "<blockquote>\n",
       "<p><tt class=\"docutils literal\">axpy(x, a=1)</tt> -- Perform <cite>self += a*x</cite> as efficiently as possible.</p>\n",
       "<p><tt class=\"docutils literal\">copy()</tt> -- Return a copy of the state.</p>\n",
       "<p><tt class=\"docutils literal\">copy_from(y)</tt> -- Set this state to be a copy of the state <cite>y</cite></p>\n",
       "<p><tt class=\"docutils literal\">scale(f)</tt> -- Perform <cite>self *= f</cite> as efficiently as possible.</p>\n",
       "</blockquote>\n",
       "</blockquote>\n",
       "</div>\n"
      ],
      "text/plain": [
       "<IPython.core.display.HTML object>"
      ]
     },
     "metadata": {},
     "output_type": "display_data"
    }
   ],
   "source": [
    "from nbutils import describe_interface\n",
    "import pytimeode.interfaces\n",
    "describe_interface(pytimeode.interfaces.IStateMinimal)"
   ]
  },
  {
   "cell_type": "markdown",
   "metadata": {},
   "source": [
    "Then you must satisfy the requirements of your particular solver.  Currently we support the following solvers."
   ]
  },
  {
   "cell_type": "markdown",
   "metadata": {},
   "source": [
    "## 3.1 Adams-Bashforth-Milne (ABM)"
   ]
  },
  {
   "cell_type": "code",
   "execution_count": 2,
   "metadata": {
    "collapsed": false
   },
   "outputs": [
    {
     "data": {
      "text/html": [
       "<!DOCTYPE html PUBLIC \"-//W3C//DTD XHTML 1.0 Transitional//EN\" \"http://www.w3.org/TR/xhtml1/DTD/xhtml1-transitional.dtd\">\n",
       "<html xmlns=\"http://www.w3.org/1999/xhtml\" xml:lang=\"en\" lang=\"en\">\n",
       "<head>\n",
       "<meta http-equiv=\"Content-Type\" content=\"text/html; charset=utf-8\" />\n",
       "<meta name=\"generator\" content=\"Docutils 0.12: http://docutils.sourceforge.net/\" />\n",
       "<title></title>\n",
       "\n",
       "<div class=\"document\">\n",
       "\n",
       "\n",
       "<p><tt class=\"docutils literal\">IStateForABMEvolvers</tt></p>\n",
       "<blockquote>\n",
       "<p>Interface required by ABM and similar integration based evolvers.</p>\n",
       "<blockquote>\n",
       "These evolvers are very general, requiring only the ability for the problem\n",
       "to compute $dy/dt$.</blockquote>\n",
       "<p>This interface extends:</p>\n",
       "<blockquote>\n",
       "o <tt class=\"docutils literal\">IState</tt></blockquote>\n",
       "<p>Attributes:</p>\n",
       "<p>Methods:</p>\n",
       "<blockquote>\n",
       "<p><tt class=\"docutils literal\">compute_dy(y, t, dy=None)</tt> -- Return <cite>dy/dt</cite> at time <cite>t</cite>.</p>\n",
       "<blockquote>\n",
       "If <cite>dy</cite> is provided, then use it for the result, otherwise return a new\n",
       "state.</blockquote>\n",
       "</blockquote>\n",
       "</blockquote>\n",
       "</div>\n"
      ],
      "text/plain": [
       "<IPython.core.display.HTML object>"
      ]
     },
     "metadata": {},
     "output_type": "display_data"
    }
   ],
   "source": [
    "describe_interface(pytimeode.interfaces.IStateForABMEvolvers)"
   ]
  },
  {
   "cell_type": "markdown",
   "metadata": {},
   "source": [
    "## 3.2 Split-Operator Evolution"
   ]
  },
  {
   "cell_type": "code",
   "execution_count": 3,
   "metadata": {
    "collapsed": false
   },
   "outputs": [
    {
     "data": {
      "text/html": [
       "<!DOCTYPE html PUBLIC \"-//W3C//DTD XHTML 1.0 Transitional//EN\" \"http://www.w3.org/TR/xhtml1/DTD/xhtml1-transitional.dtd\">\n",
       "<html xmlns=\"http://www.w3.org/1999/xhtml\" xml:lang=\"en\" lang=\"en\">\n",
       "<head>\n",
       "<meta http-equiv=\"Content-Type\" content=\"text/html; charset=utf-8\" />\n",
       "<meta name=\"generator\" content=\"Docutils 0.12: http://docutils.sourceforge.net/\" />\n",
       "<title></title>\n",
       "\n",
       "<div class=\"document\">\n",
       "\n",
       "\n",
       "<p><tt class=\"docutils literal\">IStateForSplitEvolvers</tt></p>\n",
       "<blockquote>\n",
       "<p>Interface required by Split Operator evolvers.</p>\n",
       "<blockquote>\n",
       "These evolvers assume the problem can be split into two operators - $K$\n",
       "(kinetic energy) and $V$ (potential energy) so that $i dy/dt = (K+V)y$.\n",
       "The method requires that each of these operators be exponentiated.  The\n",
       "approach uses a Trotter decomposition that provides higher order accuracy,\n",
       "but requires evaluation of the potentials at an intermediate time.  The\n",
       "<tt class=\"docutils literal\">get_potentials()</tt> method must therefore be able to compute the\n",
       "potentials at a specified time which might lie at a half-step.</blockquote>\n",
       "<p>This interface extends:</p>\n",
       "<blockquote>\n",
       "o <tt class=\"docutils literal\">IState</tt></blockquote>\n",
       "<p>Attributes:</p>\n",
       "<p>Methods:</p>\n",
       "<blockquote>\n",
       "<p><tt class=\"docutils literal\">apply_exp_K(dt, t=None)</tt> -- Apply $e^{i K dt}$</p>\n",
       "<p><tt class=\"docutils literal\">apply_exp_V(dt, t=None, potentials=None)</tt> -- Apply $e^{i V dt}$`</p>\n",
       "<p><tt class=\"docutils literal\">get_potentials(t)</tt> -- Return <cite>potentials</cite> at time <cite>t</cite>.</p>\n",
       "</blockquote>\n",
       "</blockquote>\n",
       "</div>\n"
      ],
      "text/plain": [
       "<IPython.core.display.HTML object>"
      ]
     },
     "metadata": {},
     "output_type": "display_data"
    }
   ],
   "source": [
    "describe_interface(pytimeode.interfaces.IStateForSplitEvolvers)"
   ]
  },
  {
   "cell_type": "markdown",
   "metadata": {},
   "source": [
    "# 4. Development Instructions"
   ]
  },
  {
   "cell_type": "markdown",
   "metadata": {},
   "source": [
    "If you are a developer of this package, there are a few things to be aware of.\n",
    "\n",
    "1. If you modify the notebooks in ``docs/notebooks`` then you may need to regenerate some of the ``.rst`` files and commit them so they appear on bitbucket.  This is done automatically by the ``pre-commit`` hook in ``.hgrc`` if you include this in your ``.hg/hgrc`` file with a line like:\n",
    "\n",
    "    ```\n",
    "    %include ../.hgrc\n",
    "    ```\n",
    "\n",
    "**Security Warning:** if you do this, be sure to inspect the ``.hgrc`` file carefully to make sure that no one inserts malicious code."
   ]
  }
 ],
 "metadata": {
  "kernelspec": {
   "display_name": "Python 2",
   "name": "python2"
  },
  "language_info": {
   "codemirror_mode": {
    "name": "ipython",
    "version": 2
   },
   "file_extension": ".py",
   "mimetype": "text/x-python",
   "name": "python",
   "nbconvert_exporter": "python",
   "pygments_lexer": "ipython2",
   "version": "2.7.9"
  }
 },
 "nbformat": 4,
 "nbformat_minor": 0
}
