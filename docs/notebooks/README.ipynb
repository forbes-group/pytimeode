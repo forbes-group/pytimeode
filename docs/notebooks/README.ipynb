{
 "cells": [
  {
   "cell_type": "markdown",
   "metadata": {},
   "source": [
    "# Table of Contents\n",
    "* [1. PyTimeODE](#1.-PyTimeODE)\n",
    "* [2. Installing](#2.-Installing)\n",
    "* [3. Usage](#3.-Usage)\n",
    "\t* [3.1 Example (TL;DR)](#3.1-Example-%28TL;DR%29)\n",
    "\t* [3.2 Overview](#3.2-Overview)\n",
    "* [4. Interfaces](#4.-Interfaces)\n",
    "\t* [4.1 Adams-Bashforth-Milne (ABM)](#4.1-Adams-Bashforth-Milne-%28ABM%29)\n",
    "\t* [4.2 Split-Operator Evolution](#4.2-Split-Operator-Evolution)\n",
    "\t* [4.3 Others](#4.3-Others)\n",
    "* [5. Development Instructions](#5.-Development-Instructions)\n"
   ]
  },
  {
   "cell_type": "markdown",
   "metadata": {},
   "source": [
    "# 1. PyTimeODE"
   ]
  },
  {
   "cell_type": "markdown",
   "metadata": {},
   "source": [
    "Dynamical evolution of complex systems.\n",
    "\n",
    "This package provides an interface to a set of ODE solvers for solving dynamical time-evolution problems. The original application was quantum dynamics via Gross-Pitaevski equations (GPE) and superfluid density functional theory (TDDFT), but the code is quite general and should be able to be easily used for a variety of problems.\n",
    "\n",
    "Currently the codes only use fixed time-step method (not adaptive)."
   ]
  },
  {
   "cell_type": "markdown",
   "metadata": {},
   "source": [
    "# 2. Installing"
   ]
  },
  {
   "cell_type": "markdown",
   "metadata": {},
   "source": [
    "Presently you must manually install the ``pytimeode`` package or include it with your project.  I currently recommend including it as a subrepository managed by [myrepos](http://myrepos.branchable.com).  For example, I typically use the following line in a top-level ``.mrconfig`` file (use the second checkout if you access bitbucket with ssh keys):\n",
    "\n",
    "```\n",
    "[_ext/pytimeode]\n",
    "checkout = hg clone 'https://bitbucket.org/mforbes/pytimeode' 'pytimeode'\n",
    "#checkout = hg clone 'ssh://hg@bitbucket.org/mforbes/pytimeode' 'pytimeode'\n",
    "```"
   ]
  },
  {
   "cell_type": "markdown",
   "metadata": {},
   "source": [
    "Then running ``mr checkout`` from the toplevel will pull and update the latest version of ``pytimeode`` and put it in ``_ext/pytimeode``.  I then create and add a symlink to this in the top level (and add ``_ext`` to my ``.hgignore`` file) so that I can use the ``pytimeode`` module directly:\n",
    "\n",
    "```bash\n",
    "ln -s _ext/pytimeode/pytimeode pytimeode\n",
    "hg add pytimeode .mrconfig .hgignore\n",
    "```"
   ]
  },
  {
   "cell_type": "markdown",
   "metadata": {},
   "source": [
    "You can install it with `pip` using my package index as follows:\n",
    "\n",
    "```\n",
    "pip install --find-links https://bitbucket.org/mforbes/mypi/ --user pytimeode\n",
    "```"
   ]
  },
  {
   "cell_type": "markdown",
   "metadata": {},
   "source": [
    "At a later date, when the package is release, it will be able to be installed directly with ``pip install pytimeode``."
   ]
  },
  {
   "cell_type": "markdown",
   "metadata": {},
   "source": [
    "# 3. Usage"
   ]
  },
  {
   "cell_type": "markdown",
   "metadata": {},
   "source": [
    "## 3.1 Example (TL;DR)"
   ]
  },
  {
   "cell_type": "markdown",
   "metadata": {},
   "source": [
    "As a user you need to define an appropriate `State` class which defines your problem, then pass an instance of this to an evolver.  If you can express your state in terms of arrays, then the following skeleton should suffice.  It solves the problem\n",
    "\n",
    "$$\n",
    "  \\frac{\\mathrm{d}y(t)}{\\mathrm{d}t} = f\\bigl(y(t), t\\bigr) = -y^2, \n",
    "  \\qquad\n",
    "  y(0) = y_0 = \\begin{pmatrix}\n",
    "  1\\\\\n",
    "  2\n",
    "  \\end{pmatrix}\n",
    "$$"
   ]
  },
  {
   "cell_type": "code",
   "execution_count": 1,
   "metadata": {
    "collapsed": false
   },
   "outputs": [
    {
     "data": {
      "text/plain": [
       "[State(t= 0., data=array([ 1.,  2.])),\n",
       " State(t= 1., data=array([ 0.5       ,  0.66666667])),\n",
       " State(t= 2., data=array([ 0.33333333,  0.4       ])),\n",
       " State(t= 3., data=array([ 0.25      ,  0.28571429])),\n",
       " State(t= 4., data=array([ 0.2       ,  0.22222222])),\n",
       " State(t= 5., data=array([ 0.16666667,  0.18181818])),\n",
       " State(t= 6., data=array([ 0.14285714,  0.15384615])),\n",
       " State(t= 7., data=array([ 0.125     ,  0.13333333])),\n",
       " State(t= 8., data=array([ 0.11111111,  0.11764706])),\n",
       " State(t= 9., data=array([ 0.1       ,  0.10526316])),\n",
       " State(t=10., data=array([ 0.09090909,  0.0952381 ]))]"
      ]
     },
     "execution_count": 1,
     "metadata": {},
     "output_type": "execute_result"
    }
   ],
   "source": [
    "from pytimeode.interfaces import implements, IStateForABMEvolvers, ArrayStateMixin\n",
    "from pytimeode.evolvers import EvolverABM\n",
    "\n",
    "import numpy as np\n",
    "\n",
    "class State(ArrayStateMixin):\n",
    "    implements(IStateForABMEvolvers)\n",
    "    \n",
    "    def __init__(self, shape):\n",
    "        # ArrayStateMixin requires you to define self.data\n",
    "        self.data = np.zeros(shape)\n",
    "        \n",
    "    def compute_dy(self, dy):\n",
    "        \"\"\"Set `dy[...]` to contain f(y, t) where dy/dt = f(y,t)\"\"\"\n",
    "        dy[...] = -self[...]**2\n",
    "        return dy\n",
    "        \n",
    "state = State([2])\n",
    "state[...] = [1, 2]  # Set the initial state\n",
    "\n",
    "evolver = EvolverABM(state, dt=0.01, t=0.0)\n",
    "ts = [evolver.y.t]\n",
    "states = [evolver.get_y()]  # Use get_y() to get a copy of the state\n",
    "\n",
    "for n in xrange(10):\n",
    "    evolver.evolve(100)    \n",
    "    states.append(evolver.get_y())\n",
    "\n",
    "states\n",
    "#%pylab notebook --no-import-all\n",
    "#plt.plot(ts, res)"
   ]
  },
  {
   "cell_type": "markdown",
   "metadata": {},
   "source": [
    "## 3.2 Overview"
   ]
  },
  {
   "cell_type": "markdown",
   "metadata": {},
   "source": [
    "The design requires two components – states which define a time-depenent problem of the form $\\dot{y} = f(y, t)$ and evolvers which solve this problem given an initial state.  To define the interaction between the evolvers and the states we provide a set of interfaces in the `pytimeode.interfaces` module.\n",
    "\n",
    "The user must define a class `State` which supports the `pytimeode.interfaces.IState` and at least one of `pytimeode.interfaces.IStateForABMEvolvers` or `pytimeode.interfaces.IStateForSplitEvolvers`.  Here is a description of the interfaces\n",
    "\n",
    "* `pytimeode.interfaces.IState`: This is the general state interface.  States act somewhat like arrays and you can use them as such.  The preferred method for accessing the data in a state is by indexing `data = state[...]` or `state[...] = 0.0` for example.  States can be copied etc.  Note: you generally do not need to implement everything specified in this interface – most of it is specified in one of the various mixin classes (see below) so even custom applications need only define the methods specified in `pytimeode.interfaces.IStateMinimal`.  Using one of the array mixins such as `pytimeode.interfaces.ArrayStateMixin` allows you to forgo all of this and simply implement the problem in terms of arrays.\n",
    "\n",
    "* `pytimeode.interfaces.IStateForABMEvolvers`: This is the interface used by `pytimeode.evolvers.EvolverABM` that uses a 5th-order Adams-Bashforth-Milne predictor-corrector method to solve an equation $\\dot{y} = f(y, t)$.  The user only needs to define the function $f(y, t)$ by defining the `compute_dy()` method. This is a highly accurate method - if it works, then it is probably correct (but it requires a fairly small step size to work. Unfortunately, it requires about 10 copies of the state in memory (for the initial Runge-Kutta steps) and 8 copies in general.  Energy and particle number are not explicitly conserved and so can be used as a check of the accuracy of the simulation.\n",
    "\n",
    "* `pytimeode.interfaces.IStateForSplitEvolvers`: This is the interface used by `pytimeode.evolvers.EvolverSplit` that assumes that the problem can be expressed as $\\dot{y} = -\\mathrm{i} (K + V[y])y$ where one can compute $\\exp(-\\mathrm{i}K t)$ and $\\exp(-\\mathrm{i}V[y] t)$ explicitly (where $V[y]$ may depend nonlinearly on the state $y(t)$).  If the problem can be broken up this way – which is common with quantum mechanical problems – then a split-operator method can be applied.  This is only second order, but manifestly conserves particle number, thus one can often get away with large step sizes to gain qualitative insight into the evolution of a system.  It also only requires a couple of copies of the state.  Be aware that the simulation might look correct, but be quantitatively inaccurate.\n",
    "\n",
    "* `pytimeode.interfaces.IStateWithNormalize`: If the state can be meaningfully scaled to satisfy a normalization constraint, then providing this interface will allow the evolvers to explicitly correct the normalization of the state during evolution.  The main application of this is for imaginary- or complex-time evolution to find the ground state.  In general such evolution will explicitly violate the norm of the state.  One can avoid this by projecting the evolution vector in such a way as to preserve the norm (this idea is implemented in the current code through the \"constraints\" mechanism), but then one must use a small enough timestep that the evolution is accurate at each step.  Providing a normalization method allows one to use a large time step (with the split operator evolution in particular) to quickly descend to the minimum energy state.  Here one does not care about the accuracy of the evolution – only that the ground state is ultimately achieved, thus one can evolve with some large steps and normalize the state, then polish off the solution with small time steps once one is close.\n",
    "\n",
    "* `pytimeode.interfaces.INumexpr`: Providing an `apply` method allows the evolvers to use a more efficient strategy for evaluating expressions that improves performance.  The default states used here are based on NumPy arrays which allow this functionality."
   ]
  },
  {
   "cell_type": "markdown",
   "metadata": {},
   "source": [
    "To use the solvers, you must define a class that implements one of the interfaces defined in ``pytimeode.interfaces``.  At a minimum, you must provide the methods required by ``IStateMinimal``.  This gives the evolvers the ability to manipulate your state, making copies, scaling the state, etc.  Additional required functionality by the ``IState`` interface can be obtained from these by inheriting from  ``StateMixin`` (though you might eventually like to provide custom implementations of the ``IState`` interface for performance.)  A variety of other mixins are provided for implementing states from a numpy arrays (``ArrayStateMixin``), a Mapping or Sequence of data (``StatesMixin``), a Mapping or Sequence of arrays (``ArraysStateMixin``), or a Mapping or Sequence of other states (``MultiStateMixin``)."
   ]
  },
  {
   "cell_type": "markdown",
   "metadata": {},
   "source": [
    "# 4. Interfaces"
   ]
  },
  {
   "cell_type": "markdown",
   "metadata": {},
   "source": [
    "Here are the relevant interfaces:"
   ]
  },
  {
   "cell_type": "code",
   "execution_count": 2,
   "metadata": {
    "collapsed": false
   },
   "outputs": [
    {
     "data": {
      "text/html": [
       "<!DOCTYPE html PUBLIC \"-//W3C//DTD XHTML 1.0 Transitional//EN\" \"http://www.w3.org/TR/xhtml1/DTD/xhtml1-transitional.dtd\">\n",
       "<html xmlns=\"http://www.w3.org/1999/xhtml\" xml:lang=\"en\" lang=\"en\">\n",
       "<head>\n",
       "<meta http-equiv=\"Content-Type\" content=\"text/html; charset=utf-8\" />\n",
       "<meta name=\"generator\" content=\"Docutils 0.12: http://docutils.sourceforge.net/\" />\n",
       "<title></title>\n",
       "\n",
       "<div class=\"document\">\n",
       "\n",
       "\n",
       "<p><tt class=\"docutils literal\">IStateMinimal</tt></p>\n",
       "<blockquote>\n",
       "<p>Minimal interface required for state objects.  This will not satisfy all\n",
       "uses of a state.</p>\n",
       "<p>Attributes:</p>\n",
       "<blockquote>\n",
       "<p><tt class=\"docutils literal\">dtype</tt> -- Return the dtype of the underlying state.  If this is real, then it\n",
       "is assumed that the states will always be real and certain\n",
       "optimizations may take place.</p>\n",
       "<p><tt class=\"docutils literal\">t</tt> -- Time at which state is valid.  This is the time at which potentials\n",
       "should be evaluated etc.  (It will be set by the evolvers before\n",
       "calling the various functions like compute_dy().)</p>\n",
       "<p><tt class=\"docutils literal\">writeable</tt> -- Set to <cite>True</cite> if the state is writeable, or <cite>False</cite> if the state\n",
       "should only be read.</p>\n",
       "</blockquote>\n",
       "<p>Methods:</p>\n",
       "<blockquote>\n",
       "<p><tt class=\"docutils literal\">axpy(x, a=1)</tt> -- Perform <cite>self += a*x</cite> as efficiently as possible.</p>\n",
       "<p><tt class=\"docutils literal\">braket(x)</tt> -- Perform <cite>braket(self, x)</cite> as efficiently as possible.</p>\n",
       "<blockquote>\n",
       "Note: this should conjugate self (if complex) and include any\n",
       "factors of a metric if needed.</blockquote>\n",
       "<p><tt class=\"docutils literal\">copy()</tt> -- Return a writeable copy of the state.</p>\n",
       "<p><tt class=\"docutils literal\">copy_from(y)</tt> -- Set this state to be a copy of the state <cite>y</cite></p>\n",
       "<p><tt class=\"docutils literal\">scale(f)</tt> -- Perform <cite>self *= f</cite> as efficiently as possible.</p>\n",
       "</blockquote>\n",
       "</blockquote>\n",
       "</div>\n"
      ],
      "text/plain": [
       "<IPython.core.display.HTML object>"
      ]
     },
     "metadata": {},
     "output_type": "display_data"
    }
   ],
   "source": [
    "from nbutils import describe_interface\n",
    "import pytimeode.interfaces\n",
    "describe_interface(pytimeode.interfaces.IStateMinimal)"
   ]
  },
  {
   "cell_type": "markdown",
   "metadata": {},
   "source": [
    "Then you must satisfy the requirements of your particular solver.  Currently we support the following solvers."
   ]
  },
  {
   "cell_type": "markdown",
   "metadata": {},
   "source": [
    "## 4.1 Adams-Bashforth-Milne (ABM)"
   ]
  },
  {
   "cell_type": "code",
   "execution_count": 3,
   "metadata": {
    "collapsed": false
   },
   "outputs": [
    {
     "data": {
      "text/html": [
       "<!DOCTYPE html PUBLIC \"-//W3C//DTD XHTML 1.0 Transitional//EN\" \"http://www.w3.org/TR/xhtml1/DTD/xhtml1-transitional.dtd\">\n",
       "<html xmlns=\"http://www.w3.org/1999/xhtml\" xml:lang=\"en\" lang=\"en\">\n",
       "<head>\n",
       "<meta http-equiv=\"Content-Type\" content=\"text/html; charset=utf-8\" />\n",
       "<meta name=\"generator\" content=\"Docutils 0.12: http://docutils.sourceforge.net/\" />\n",
       "<title></title>\n",
       "\n",
       "<div class=\"document\">\n",
       "\n",
       "\n",
       "<p><tt class=\"docutils literal\">IStateForABMEvolvers</tt></p>\n",
       "<blockquote>\n",
       "<p>Interface required by ABM and similar integration based evolvers.</p>\n",
       "<blockquote>\n",
       "These evolvers are very general, requiring only the ability for the problem\n",
       "to compute $dy/dt$.</blockquote>\n",
       "<p>This interface extends:</p>\n",
       "<blockquote>\n",
       "o <tt class=\"docutils literal\">IState</tt></blockquote>\n",
       "<p>Methods:</p>\n",
       "<blockquote>\n",
       "<tt class=\"docutils literal\">compute_dy(dy)</tt> -- Return <cite>dy/dt</cite> at time <cite>self.t</cite> using the memory in state <cite>dy</cite>.</blockquote>\n",
       "</blockquote>\n",
       "</div>\n"
      ],
      "text/plain": [
       "<IPython.core.display.HTML object>"
      ]
     },
     "metadata": {},
     "output_type": "display_data"
    }
   ],
   "source": [
    "describe_interface(pytimeode.interfaces.IStateForABMEvolvers)"
   ]
  },
  {
   "cell_type": "markdown",
   "metadata": {},
   "source": [
    "## 4.2 Split-Operator Evolution"
   ]
  },
  {
   "cell_type": "code",
   "execution_count": 4,
   "metadata": {
    "collapsed": false
   },
   "outputs": [
    {
     "data": {
      "text/html": [
       "<!DOCTYPE html PUBLIC \"-//W3C//DTD XHTML 1.0 Transitional//EN\" \"http://www.w3.org/TR/xhtml1/DTD/xhtml1-transitional.dtd\">\n",
       "<html xmlns=\"http://www.w3.org/1999/xhtml\" xml:lang=\"en\" lang=\"en\">\n",
       "<head>\n",
       "<meta http-equiv=\"Content-Type\" content=\"text/html; charset=utf-8\" />\n",
       "<meta name=\"generator\" content=\"Docutils 0.12: http://docutils.sourceforge.net/\" />\n",
       "<title></title>\n",
       "\n",
       "<div class=\"document\">\n",
       "\n",
       "\n",
       "<p><tt class=\"docutils literal\">IStateForSplitEvolvers</tt></p>\n",
       "<blockquote>\n",
       "<p>Interface required by Split Operator evolvers.</p>\n",
       "<blockquote>\n",
       "<p>These evolvers assume the problem can be split into two operators - $K$\n",
       "(kinetic energy) and $V$ (potential energy) so that $i dy/dt = (K+V)y$.\n",
       "The method requires that each of these operators be exponentiated.  The\n",
       "approach uses a Trotter decomposition that provides higher order accuracy,\n",
       "but requires evaluation of the potentials at an intermediate time.</p>\n",
       "<p>This interface requires that the <cite>apply_exp_V()</cite> method accept\n",
       "another state object which should be used for calculating any\n",
       "non-linear terms in $V$ which are state dependent.</p>\n",
       "<p>If your problem is linear (i.e. $V$ depends only on time, not on\n",
       "the state as in the case of the usual linear Schrodinger\n",
       "equation), then you should set the linear attribute which will\n",
       "improve performance (but do not use this for non-linear problems\n",
       "or the order of convergence will be reduced).</p>\n",
       "</blockquote>\n",
       "<p>This interface extends:</p>\n",
       "<blockquote>\n",
       "o <tt class=\"docutils literal\">IState</tt></blockquote>\n",
       "<p>Attributes:</p>\n",
       "<blockquote>\n",
       "<tt class=\"docutils literal\">linear</tt> -- Is the problem linear?</blockquote>\n",
       "<p>Methods:</p>\n",
       "<blockquote>\n",
       "<p><tt class=\"docutils literal\">apply_exp_K(dt)</tt> -- Apply $e^{-i K dt}$ in place</p>\n",
       "<p><tt class=\"docutils literal\">apply_exp_V(dt, state)</tt> -- Apply $e^{-i V dt}$ in place using <cite>state</cite> for any\n",
       "nonlinear dependence in V. (Linear problems should ignore\n",
       "<cite>state</cite>.)</p>\n",
       "</blockquote>\n",
       "</blockquote>\n",
       "</div>\n"
      ],
      "text/plain": [
       "<IPython.core.display.HTML object>"
      ]
     },
     "metadata": {},
     "output_type": "display_data"
    }
   ],
   "source": [
    "describe_interface(pytimeode.interfaces.IStateForSplitEvolvers)"
   ]
  },
  {
   "cell_type": "markdown",
   "metadata": {},
   "source": [
    "## 4.3 Others"
   ]
  },
  {
   "cell_type": "markdown",
   "metadata": {},
   "source": [
    "Here are the remaining interfaces:"
   ]
  },
  {
   "cell_type": "code",
   "execution_count": 5,
   "metadata": {
    "collapsed": false
   },
   "outputs": [
    {
     "data": {
      "text/html": [
       "<!DOCTYPE html PUBLIC \"-//W3C//DTD XHTML 1.0 Transitional//EN\" \"http://www.w3.org/TR/xhtml1/DTD/xhtml1-transitional.dtd\">\n",
       "<html xmlns=\"http://www.w3.org/1999/xhtml\" xml:lang=\"en\" lang=\"en\">\n",
       "<head>\n",
       "<meta http-equiv=\"Content-Type\" content=\"text/html; charset=utf-8\" />\n",
       "<meta name=\"generator\" content=\"Docutils 0.12: http://docutils.sourceforge.net/\" />\n",
       "<title></title>\n",
       "\n",
       "<div class=\"document\">\n",
       "\n",
       "\n",
       "<p><tt class=\"docutils literal\">IState</tt></p>\n",
       "<blockquote>\n",
       "<p>Interface required by the evolvers.</p>\n",
       "<blockquote>\n",
       "Many of these functions are for convenience, and can be implemented from\n",
       "those defined in <tt class=\"docutils literal\">IState</tt> by including the <tt class=\"docutils literal\">StateMixin</tt> mixin.</blockquote>\n",
       "<p>This interface extends:</p>\n",
       "<blockquote>\n",
       "o <tt class=\"docutils literal\">IStateMinimal</tt></blockquote>\n",
       "<p>Methods:</p>\n",
       "<blockquote>\n",
       "<p><tt class=\"docutils literal\">__add__(y)</tt> -- Return <cite>self + y</cite></p>\n",
       "<p><tt class=\"docutils literal\">__div__(f)</tt> -- Return <cite>self / y</cite></p>\n",
       "<p><tt class=\"docutils literal\">__iadd__(y)</tt> -- <cite>self += y</cite></p>\n",
       "<p><tt class=\"docutils literal\">__idiv__(f)</tt> -- <cite>self /= f</cite></p>\n",
       "<p><tt class=\"docutils literal\">__imul__(f)</tt> -- <cite>self *= f</cite></p>\n",
       "<p><tt class=\"docutils literal\">__isub__(y)</tt> -- <cite>self -= y</cite></p>\n",
       "<p><tt class=\"docutils literal\">__itruediv__(f)</tt> -- <cite>self /= f</cite></p>\n",
       "<p><tt class=\"docutils literal\">__mul__(f)</tt> -- Return <cite>self * y</cite></p>\n",
       "<p><tt class=\"docutils literal\">__neg__()</tt> -- <cite>-self</cite></p>\n",
       "<p><tt class=\"docutils literal\">__pos__()</tt> -- <cite>+self</cite></p>\n",
       "<p><tt class=\"docutils literal\">__rmul__(f)</tt> -- Return <cite>self * y</cite></p>\n",
       "<p><tt class=\"docutils literal\">__sub__(y)</tt> -- Return <cite>self - y</cite></p>\n",
       "<p><tt class=\"docutils literal\">__truediv__(f)</tt> -- Return <cite>self / y</cite></p>\n",
       "<p><tt class=\"docutils literal\">empty()</tt> -- Return a writeable but uninitialized copy of the state.</p>\n",
       "<blockquote>\n",
       "Can be implemented with <cite>self.copy()</cite> but some states might be\n",
       "able to make a faster version if the data does not need to be copied.</blockquote>\n",
       "<p><tt class=\"docutils literal\">zeros()</tt> -- Return a writeable but zeroed out copy of the state.</p>\n",
       "<blockquote>\n",
       "Can be implemented with <cite>self.copy()</cite> but some states might be\n",
       "able to make a faster version if the data does not need to be copied.</blockquote>\n",
       "</blockquote>\n",
       "</blockquote>\n",
       "</div>\n"
      ],
      "text/plain": [
       "<IPython.core.display.HTML object>"
      ]
     },
     "metadata": {},
     "output_type": "display_data"
    }
   ],
   "source": [
    "describe_interface(pytimeode.interfaces.IState)"
   ]
  },
  {
   "cell_type": "code",
   "execution_count": 6,
   "metadata": {
    "collapsed": false
   },
   "outputs": [
    {
     "data": {
      "text/html": [
       "<!DOCTYPE html PUBLIC \"-//W3C//DTD XHTML 1.0 Transitional//EN\" \"http://www.w3.org/TR/xhtml1/DTD/xhtml1-transitional.dtd\">\n",
       "<html xmlns=\"http://www.w3.org/1999/xhtml\" xml:lang=\"en\" lang=\"en\">\n",
       "<head>\n",
       "<meta http-equiv=\"Content-Type\" content=\"text/html; charset=utf-8\" />\n",
       "<meta name=\"generator\" content=\"Docutils 0.12: http://docutils.sourceforge.net/\" />\n",
       "<title></title>\n",
       "\n",
       "<div class=\"document\">\n",
       "\n",
       "\n",
       "<p><tt class=\"docutils literal\">IStateWithNormalize</tt></p>\n",
       "<blockquote>\n",
       "<p>Interface for states with a normalize function.  Solvers can then\n",
       "provide some extra features natively like allowing imaginary time evolution\n",
       "for initial state preparation.</p>\n",
       "<p>This interface extends:</p>\n",
       "<blockquote>\n",
       "o <tt class=\"docutils literal\">IState</tt></blockquote>\n",
       "<p>Methods:</p>\n",
       "<blockquote>\n",
       "<p><tt class=\"docutils literal\">normalize()</tt> -- Normalize (and orthogonalize) the state.</p>\n",
       "<blockquote>\n",
       "This method may be called by the evolvers if they implement non-unitary\n",
       "evolution (imaginary time cooling for example) after each step.  For\n",
       "Fermionic DFTs, the single-particle wavefunctions would then also need\n",
       "to be orthogonalized.</blockquote>\n",
       "</blockquote>\n",
       "</blockquote>\n",
       "</div>\n"
      ],
      "text/plain": [
       "<IPython.core.display.HTML object>"
      ]
     },
     "metadata": {},
     "output_type": "display_data"
    }
   ],
   "source": [
    "describe_interface(pytimeode.interfaces.IStateWithNormalize)"
   ]
  },
  {
   "cell_type": "code",
   "execution_count": 7,
   "metadata": {
    "collapsed": false
   },
   "outputs": [
    {
     "data": {
      "text/html": [
       "<!DOCTYPE html PUBLIC \"-//W3C//DTD XHTML 1.0 Transitional//EN\" \"http://www.w3.org/TR/xhtml1/DTD/xhtml1-transitional.dtd\">\n",
       "<html xmlns=\"http://www.w3.org/1999/xhtml\" xml:lang=\"en\" lang=\"en\">\n",
       "<head>\n",
       "<meta http-equiv=\"Content-Type\" content=\"text/html; charset=utf-8\" />\n",
       "<meta name=\"generator\" content=\"Docutils 0.12: http://docutils.sourceforge.net/\" />\n",
       "<title></title>\n",
       "\n",
       "<div class=\"document\">\n",
       "\n",
       "\n",
       "<p><tt class=\"docutils literal\">INumexpr</tt></p>\n",
       "<blockquote>\n",
       "<p>Allows for numexpr optimizations</p>\n",
       "<p>Attributes:</p>\n",
       "<blockquote>\n",
       "<tt class=\"docutils literal\">dtype</tt> -- Return the dtype of the underlying state.  If this is real, then it\n",
       "is assumed that the states will always be real and certain optimizations\n",
       "may take place.</blockquote>\n",
       "<p>Methods:</p>\n",
       "<blockquote>\n",
       "<tt class=\"docutils literal\">apply(expr, **kwargs)</tt> -- Evaluate the expression using the arguments in <tt class=\"docutils literal\">kwargs</tt> and store\n",
       "the result in <tt class=\"docutils literal\">self</tt>.  For those instance of the class in <tt class=\"docutils literal\">kwargs</tt>,\n",
       "the expression must be applied over all components.  This is used by\n",
       "the <tt class=\"docutils literal\">utils.expr.Expression</tt> class to allow numexpr expressions to be\n",
       "applied to custom state objects.</blockquote>\n",
       "</blockquote>\n",
       "</div>\n"
      ],
      "text/plain": [
       "<IPython.core.display.HTML object>"
      ]
     },
     "metadata": {},
     "output_type": "display_data"
    }
   ],
   "source": [
    "describe_interface(pytimeode.interfaces.INumexpr)"
   ]
  },
  {
   "cell_type": "code",
   "execution_count": 8,
   "metadata": {
    "collapsed": false
   },
   "outputs": [
    {
     "data": {
      "text/html": [
       "<!DOCTYPE html PUBLIC \"-//W3C//DTD XHTML 1.0 Transitional//EN\" \"http://www.w3.org/TR/xhtml1/DTD/xhtml1-transitional.dtd\">\n",
       "<html xmlns=\"http://www.w3.org/1999/xhtml\" xml:lang=\"en\" lang=\"en\">\n",
       "<head>\n",
       "<meta http-equiv=\"Content-Type\" content=\"text/html; charset=utf-8\" />\n",
       "<meta name=\"generator\" content=\"Docutils 0.12: http://docutils.sourceforge.net/\" />\n",
       "<title></title>\n",
       "\n",
       "<div class=\"document\">\n",
       "\n",
       "\n",
       "<p><tt class=\"docutils literal\">IStatePotentialsForSplitEvolvers</tt></p>\n",
       "<blockquote>\n",
       "<p>Interface required by Split Operator evolvers.</p>\n",
       "<blockquote>\n",
       "This is a specialization of <cite>IStateForSplitEvolvers</cite> that uses an\n",
       "alternative method <cite>get_potentials()</cite> to compute the non-linear\n",
       "portion of the potential. It is intended for use when the state is\n",
       "much more complicated than the non-linear portion of the\n",
       "potential, hence only a separate copy of the potentials is maintained.</blockquote>\n",
       "<p>This interface extends:</p>\n",
       "<blockquote>\n",
       "o <tt class=\"docutils literal\">IStateForSplitEvolvers</tt></blockquote>\n",
       "<p>Methods:</p>\n",
       "<blockquote>\n",
       "<p><tt class=\"docutils literal\">apply_exp_V(dt, potentials)</tt> -- Apply $e^{-i V dt}$ in place using <cite>potentials</cite></p>\n",
       "<p><tt class=\"docutils literal\">get_potentials()</tt> -- Return <cite>potentials</cite> at time <cite>self.t</cite>.</p>\n",
       "</blockquote>\n",
       "</blockquote>\n",
       "</div>\n"
      ],
      "text/plain": [
       "<IPython.core.display.HTML object>"
      ]
     },
     "metadata": {},
     "output_type": "display_data"
    }
   ],
   "source": [
    "describe_interface(pytimeode.interfaces.IStatePotentialsForSplitEvolvers)"
   ]
  },
  {
   "cell_type": "markdown",
   "metadata": {},
   "source": [
    "# 5. Development Instructions"
   ]
  },
  {
   "cell_type": "markdown",
   "metadata": {},
   "source": [
    "If you are a developer of this package, there are a few things to be aware of.\n",
    "\n",
    "1. If you modify the notebooks in ``docs/notebooks`` then you may need to regenerate some of the ``.rst`` files and commit them so they appear on bitbucket.  This is done automatically by the ``pre-commit`` hook in ``.hgrc`` if you include this in your ``.hg/hgrc`` file with a line like:\n",
    "\n",
    "    ```\n",
    "    %include ../.hgrc\n",
    "    ```\n",
    "\n",
    "**Security Warning:** if you do this, be sure to inspect the ``.hgrc`` file carefully to make sure that no one inserts malicious code."
   ]
  }
 ],
 "metadata": {
  "kernelspec": {
   "display_name": "Python 2",
   "language": "python",
   "name": "python2"
  },
  "language_info": {
   "codemirror_mode": {
    "name": "ipython",
    "version": 2
   },
   "file_extension": ".py",
   "mimetype": "text/x-python",
   "name": "python",
   "nbconvert_exporter": "python",
   "pygments_lexer": "ipython2",
   "version": "2.7.11"
  }
 },
 "nbformat": 4,
 "nbformat_minor": 0
}
