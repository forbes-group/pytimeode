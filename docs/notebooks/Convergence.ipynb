{
 "cells": [
  {
   "cell_type": "markdown",
   "metadata": {},
   "source": [
    "# Convergence"
   ]
  },
  {
   "cell_type": "markdown",
   "metadata": {},
   "source": [
    "Here we demonstrate the convergence properties of some of the methods."
   ]
  },
  {
   "cell_type": "markdown",
   "metadata": {},
   "source": [
    "# ABM"
   ]
  },
  {
   "cell_type": "code",
   "execution_count": 25,
   "metadata": {
    "collapsed": false
   },
   "outputs": [
    {
     "name": "stdout",
     "output_type": "stream",
     "text": [
      "Populating the interactive namespace from numpy and matplotlib\n"
     ]
    }
   ],
   "source": [
    "%pylab inline --no-import-all\n",
    "from pytimeode import interfaces\n",
    "\n",
    "class State(interfaces.ArrayStateMixin):\n",
    "    \"\"\"Simple exponential problem.\"\"\"\n",
    "    interfaces.implements(interfaces.IStateForABMEvolvers)\n",
    "    def __init__(self):\n",
    "        self.data = np.array([1.0])\n",
    "    \n",
    "    def compute_dy(self, t, dy=None):\n",
    "        if dy is None:\n",
    "            dy = self.copy()\n",
    "        else:\n",
    "            dy[...] = self[...]\n",
    "        return dy"
   ]
  },
  {
   "cell_type": "code",
   "execution_count": 26,
   "metadata": {
    "collapsed": false
   },
   "outputs": [],
   "source": [
    "from pytimeode.evolvers import EvolverABM\n",
    "errs = []\n",
    "T = 1.0\n",
    "y0 = State()\n",
    "\n",
    "y_exact = y0[0]*np.exp(T)\n",
    "\n",
    "Nts = 2**np.arange(1, 12)\n",
    "\n",
    "def get_errors(Nts=Nts, **kw):\n",
    "    errs = []\n",
    "    for Nt in Nts:\n",
    "        evolver = EvolverABM(y=y0, dt=T/Nt, **kw)\n",
    "        evolver.evolve(Nt)\n",
    "        errs.append(abs(evolver.y[0] - y_exact))\n",
    "    return np.array(errs)\n",
    "\n",
    "errs = get_errors()\n",
    "errs_no_rk = get_errors(no_runge_kutta=True)"
   ]
  },
  {
   "cell_type": "code",
   "execution_count": 27,
   "metadata": {
    "collapsed": false
   },
   "outputs": [
    {
     "data": {
      "text/plain": [
       "<matplotlib.text.Text at 0x118494210>"
      ]
     },
     "execution_count": 27,
     "metadata": {},
     "output_type": "execute_result"
    },
    {
     "data": {
      "image/png": "[encoded data removed]",
      "text/plain": [
       "<matplotlib.figure.Figure at 0x1185b0cd0>"
      ]
     },
     "metadata": {},
     "output_type": "display_data"
    }
   ],
   "source": [
    "plt.loglog(Nts, errs, 'b+-', label='ABM')\n",
    "plt.loglog(Nts, errs_no_rk, 'r+-', label='ABM (no Runge-Kutta)')\n",
    "plt.loglog(Nts, 0.05/Nts**5, 'y:', label=r'$N^{-5}$')\n",
    "plt.legend(loc='best')\n",
    "plt.xlabel('time steps')\n",
    "plt.ylabel('abs err')"
   ]
  },
  {
   "cell_type": "markdown",
   "metadata": {},
   "source": [
    "Here we plot the log of the errors as a function of number of timesteps demonstrating the $\\order(\\delta t^5)$ scaling of the errors for the ABM method.  Note that, if the function is not constant for the first few timesteps, the predictor-corrector arrays are not properly initialize and the evolution is not effective."
   ]
  },
  {
   "cell_type": "markdown",
   "metadata": {},
   "source": [
    "# Split Operator"
   ]
  },
  {
   "cell_type": "markdown",
   "metadata": {},
   "source": [
    "To test the split-operator method, we consider a simple problem of evolution with the following Hamiltonian:\n",
    "\n",
    "$$\n",
    "  \\I\\pdiff{}{t} = \\mat{K}\\ket{\\psi} + \\mat{V}\\ket{\\psi}\n",
    "$$\n",
    "\n",
    "where $\\mat{V} = \\diag\\abs{\\psi}^2 + \\mat{A}$ and $\\mat{K}$ and $\\mat{A}$ are random Hermitian matrices."
   ]
  },
  {
   "cell_type": "code",
   "execution_count": 28,
   "metadata": {
    "collapsed": false
   },
   "outputs": [
    {
     "name": "stdout",
     "output_type": "stream",
     "text": [
      "Populating the interactive namespace from numpy and matplotlib\n"
     ]
    }
   ],
   "source": [
    "%pylab inline --no-import-all\n",
    "import scipy.linalg\n",
    "sp = scipy\n",
    "from pytimeode import interfaces\n",
    "\n",
    "class State(interfaces.ArrayStateMixin):\n",
    "    \"\"\"Simple 2D non-linear Schrodinger equation\"\"\"\n",
    "    interfaces.implements(interfaces.IStateForABMEvolvers, interfaces.IStateForSplitEvolvers)\n",
    "    def __init__(self):\n",
    "        np.random.seed(1)\n",
    "        shape = (2, 2)\n",
    "        A = np.random.random(shape) + 1j*np.random.random(shape) - 0.5 - 0.5j\n",
    "        K = np.random.random(shape) + 1j*np.random.random(shape) - 0.5 - 0.5j\n",
    "        self.A = A + A.conj().T\n",
    "        self.K = K + K.conj().T\n",
    "        self.data = np.array([1.0, 0.0], dtype=complex)\n",
    "    \n",
    "    def compute_dy(self, t, dy=None):\n",
    "        if dy is None:\n",
    "            dy = self.copy()\n",
    "            \n",
    "        V = np.diag(self.get_potentials(t=t)) + self.A\n",
    "        dy[...] = (self.K + V).dot(self[...])/1j\n",
    "        return dy\n",
    "    \n",
    "    def get_potentials(self, t):\n",
    "        \"\"\"Return `potentials` at time `t`.\"\"\"\n",
    "        psi = self[...]\n",
    "        return abs(psi)**2\n",
    "\n",
    "    def apply_exp_K(self, dt, t=None):\n",
    "        r\"\"\"Apply $e^{-i K dt}$ in place\"\"\"\n",
    "        self[...] = sp.linalg.expm(-1j*self.K*dt).dot(self[...])\n",
    "\n",
    "    def apply_exp_V(self, dt, state=None, t=None):\n",
    "        r\"\"\"Apply $e^{-i V dt}$ in place\"\"\"\n",
    "        potentials = state.get_potentials(t=t)\n",
    "        V = np.diag(potentials) + self.A\n",
    "        self[...] = sp.linalg.expm(-1j*V*dt).dot(self[...])"
   ]
  },
  {
   "cell_type": "markdown",
   "metadata": {},
   "source": [
    "For an \"exact\" solution we use the ABM evolver:"
   ]
  },
  {
   "cell_type": "code",
   "execution_count": 29,
   "metadata": {
    "collapsed": false
   },
   "outputs": [],
   "source": [
    "from pytimeode.evolvers import EvolverABM, EvolverSplit\n",
    "errs = []\n",
    "T = 1.0\n",
    "y0 = State()\n",
    "\n",
    "Nt = 2**12\n",
    "evolver = EvolverABM(y=y0, dt=T/Nt)\n",
    "evolver.evolve(Nt)\n",
    "y_exact = evolver.y[...]\n",
    "\n",
    "Nts = 2**np.arange(1, 12)\n",
    "\n",
    "def get_errors(Evolver=EvolverABM, Nts=Nts, **kw):\n",
    "    errs = []\n",
    "    for Nt in Nts:\n",
    "        evolver = Evolver(y=y0, dt=T/Nt, **kw)\n",
    "        evolver.evolve(Nt)\n",
    "        errs.append(abs(evolver.y[...] - y_exact).max())\n",
    "    return np.array(errs)\n",
    "\n",
    "errs = get_errors()\n",
    "errs_split = get_errors(Evolver=EvolverSplit)"
   ]
  },
  {
   "cell_type": "code",
   "execution_count": 30,
   "metadata": {
    "collapsed": false
   },
   "outputs": [
    {
     "data": {
      "text/plain": [
       "<matplotlib.text.Text at 0x11928c050>"
      ]
     },
     "execution_count": 30,
     "metadata": {},
     "output_type": "execute_result"
    },
    {
     "data": {
      "image/png": "[encoded data removed]",
      "text/plain": [
       "<matplotlib.figure.Figure at 0x117cbf850>"
      ]
     },
     "metadata": {},
     "output_type": "display_data"
    }
   ],
   "source": [
    "plt.loglog(Nts, errs, 'b+:', label='ABM')\n",
    "plt.loglog(Nts, errs_split, 'g.:', label='Split')\n",
    "plt.loglog(Nts, 0.1/Nts**2, 'y-', label=r'$N^{-2}$')\n",
    "plt.loglog(Nts, 3./Nts**5, 'y-', label=r'$N^{-5}$')\n",
    "plt.legend(loc='best')\n",
    "plt.xlabel('time steps')\n",
    "plt.ylabel('abs err')"
   ]
  }
 ],
 "metadata": {
  "kernelspec": {
   "display_name": "Python 2",
   "language": "python",
   "name": "python2"
  },
  "language_info": {
   "codemirror_mode": {
    "name": "ipython",
    "version": 2
   },
   "file_extension": ".py",
   "mimetype": "text/x-python",
   "name": "python",
   "nbconvert_exporter": "python",
   "pygments_lexer": "ipython2",
   "version": "2.7.10"
  }
 },
 "nbformat": 4,
 "nbformat_minor": 0
}
