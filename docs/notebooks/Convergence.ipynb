{
 "cells": [
  {
   "cell_type": "code",
   "execution_count": 1,
   "metadata": {
    "collapsed": false
   },
   "outputs": [
    {
     "data": {
      "text/html": [
       "<style>@import url('http://fonts.googleapis.com/css?family=Lato:700');\n",
       "@import url('http://fonts.googleapis.com/css?family=Ubuntu+Mono');\n",
       "@import url('http://fonts.googleapis.com/css?family=Inconsolata');\n",
       "\n",
       "// http://typecast.com/images/uploads/modernscale.css\n",
       "\n",
       "// html {font-size: 32pt;}\n",
       "\n",
       "body, caption, th, td, input, textarea, select, option, legend, fieldset, h1, h2, h3, h4, h5, h6, .CodeMirror {\n",
       "  font-size-adjust: 0.5;\n",
       "}\n",
       "\n",
       "// This is the containing div, so we set the base size here.\n",
       "// All other elements will resize accordingly (not menus)\n",
       "// Unfortunately, it does not work...\n",
       "div #notebook_panel {\n",
       "  font-size: 1em;\n",
       "  /* 1em equivalent to 16px */\n",
       "}\n",
       "\n",
       "#notebook {\n",
       "  font-size: 1.2em;\n",
       "  line-height: 1.25;\n",
       "  /* equivalent to 20px */\n",
       "}\n",
       "\n",
       "@media (min-width: 43.75em) {\n",
       "  #notebook {\n",
       "    font-size: 1.2em;\n",
       "    line-height: 1.375;\n",
       "    /* equivalent to 22px */\n",
       "  }\n",
       "}\n",
       "\n",
       "h1 {\n",
       "  font-size: 2em;\n",
       "  /* 2x body copy size = 32px */\n",
       "  line-height: 1.25;\n",
       "  /* 45px / 36px */\n",
       "}\n",
       "\n",
       "@media (min-width: 43.75em) {\n",
       "  h1 {\n",
       "    font-size: 2.5em;\n",
       "    /* 2.5x body copy size = 40px */\n",
       "    line-height: 1.125;\n",
       "  }\n",
       "}\n",
       "\n",
       "@media (min-width: 56.25em) {\n",
       "  h1 {\n",
       "    font-size: 3em;\n",
       "    /* 3x body copy size = 48px */\n",
       "    line-height: 1.05;\n",
       "    /* keep to a multiple of the 20px line height and something more appropriate for display headings */\n",
       "  }\n",
       "}\n",
       "\n",
       "h2 {\n",
       "  font-size: 1.625em;\n",
       "  /* 1.625x body copy size = 26px */\n",
       "  line-height: 1.15384615;\n",
       "  /* 30px / 26px */\n",
       "}\n",
       "\n",
       "@media (min-width: 43.75em) {\n",
       "  h2 {\n",
       "    font-size: 2em;\n",
       "    /* 2x body copy size = 32px */\n",
       "    line-height: 1.25;\n",
       "  }\n",
       "}\n",
       "\n",
       "@media (min-width: 56.25em) {\n",
       "  h2 {\n",
       "    font-size: 2.25em;\n",
       "    /* 2.25x body copy size = 36px */\n",
       "    line-height: 1.25;\n",
       "  }\n",
       "}\n",
       "\n",
       "h3 {\n",
       "  font-size: 1.375em;\n",
       "  /* 1.375x body copy size = 22px */\n",
       "  line-height: 1.13636364;\n",
       "  /* 25px / 22px */\n",
       "}\n",
       "\n",
       "@media (min-width: 43.75em) {\n",
       "  h3 {\n",
       "    font-size: 1.5em;\n",
       "    /* 1.5x body copy size = 24px */\n",
       "    line-height: 1.25;\n",
       "  }\n",
       "}\n",
       "\n",
       "@media (min-width: 56.25em) {\n",
       "  h3 {\n",
       "    font-size: 1.75em;\n",
       "    /* 1.75x body copy size = 28px */\n",
       "    line-height: 1.25;\n",
       "  }\n",
       "}\n",
       "\n",
       "h4 {\n",
       "  font-size: 1.125em;\n",
       "  /* 1.125x body copy size = 18px */\n",
       "  line-height: 1.11111111;\n",
       "}\n",
       "\n",
       "@media (min-width: 43.75em) {\n",
       "  h4 {\n",
       "    line-height: 1.22222222;\n",
       "    /* (22px / 18px */\n",
       "  }\n",
       "}\n",
       "\n",
       "\n",
       "/* These need some adjustments */\n",
       "blockquote {\n",
       "  font-size: 1em;\n",
       "  /* 20px / 16px */\n",
       "  line-height: 1.25;\n",
       "  /* 25px / 20px */\n",
       "}\n",
       "\n",
       "@media (min-width: 43.75em) {\n",
       "  blockquote {\n",
       "    font-size: 1em;\n",
       "    /* 24px / 16px = */\n",
       "    line-height: 1.45833333;\n",
       "    /* 35px / 24px */\n",
       "  }\n",
       "}\n",
       "\n",
       "#notebook-container {\n",
       "    background-color: #fcfaf2;\n",
       "}\n",
       "\n",
       "div.text_cell_render {\n",
       "    font-family: \"Palatino Linotype\", \"Palatino\", \"Book Antiqua\",\n",
       "                 \"URW Palladio L\", serif;\n",
       "}\n",
       "\n",
       ".CodeMirror pre {\n",
       "    font-family: Inconsolata, Consolas, monocco, monospace;\n",
       "}\n",
       "\n",
       "/* This was an attempt to make it more obvious that long lines */\n",
       "/* extended to the right, but causes a problem with the left bar of trhe */\n",
       "/* input areas overflowing down and obscuring the output */\n",
       "\n",
       "/* .CodeMirror { */\n",
       "/*     overflow: visible; */\n",
       "/* } */\n",
       "\n",
       "div.input_area {\n",
       "    border-color: rgba(0,0,0,0.10);\n",
       "    background: rbga(1,0,0,0.5);\n",
       "    max-width: 48.8em; /* 80 characters instead of 100%, */\n",
       "}\n",
       "\n",
       "div.text_cell_render p {\n",
       "    max-width: 45em; /* instead of 100%, */\n",
       "}\n",
       "\n",
       "h1, h2, h3, h4 {\n",
       "    font-family: Lato, Verdana, sans-serif;\n",
       "}\n",
       "\n",
       ".rendered_html ol {\n",
       "    list-style:decimal;\n",
       "    margin: 1em 2em;\n",
       "}\n",
       "\n",
       "/* My overrrides */\n",
       "div.output_subarea {\n",
       "    background: rgba(0,0,0,0.02);\n",
       "}\n",
       "\n",
       ".rendered_html pre,\n",
       ".rendered_html code {a\n",
       "    line-height: 105%;\n",
       "    font-family: Inconsolata, Consolas, monocco, monospace;\n",
       "    background-color: #fcfaf2;\n",
       "}\n",
       "\n",
       "figure {\n",
       "    display: inline-block;\n",
       "    width: 100%;\n",
       "    max-width: 45em;\n",
       "}\n",
       "\n",
       "figure img {\n",
       "    align: center;\n",
       "}\n",
       "\n",
       "figure figcaption {\n",
       "    text-align: center;\n",
       "}\n",
       "\n",
       ".grade {\n",
       "   background-color: #66FFCC;\n",
       "}\n",
       "</style>"
      ],
      "text/plain": [
       "<IPython.core.display.HTML object>"
      ]
     },
     "metadata": {},
     "output_type": "display_data"
    },
    {
     "data": {
      "application/javascript": [
       "// MathJaX customization, custom commands etc.\n",
       "console.log('Updating MathJax configuration');\n",
       "MathJax.Hub.Config({\n",
       "  \"HTML-CSS\": {\n",
       "      //availableFonts: [\"Neo-Euler\"], preferredFont: \"Neo-Euler\",\n",
       "      //webFont: \"Neo-Euler\",\n",
       "      //scale: 85, // Euler is a bit big.\n",
       "      mtextFontInherit: true,\n",
       "      matchFontHeight: true,\n",
       "      scale: 90, // STIX is a bit big.\n",
       "\n",
       "  },\n",
       "  // This is not working for some reason.\n",
       "  \"TeX\": {\n",
       "    Macros: {\n",
       "        d: [\"\\\\mathrm{d}\"],\n",
       "        I: [\"\\\\mathrm{i}\"],\n",
       "        vect: [\"\\\\vec{#1}\", 1],\n",
       "        uvect: [\"\\\\hat{#1}\", 1],\n",
       "        abs: [\"\\\\lvert#1\\\\rvert\", 1],\n",
       "        Abs: [\"\\\\left\\\\lvert#1\\\\right\\\\rvert\", 1],\n",
       "        norm: [\"\\\\lVert#1\\\\rVert\", 1],\n",
       "        Norm: [\"\\\\left\\\\lVert#1\\\\right\\\\rVert\", 1],\n",
       "        ket: [\"|#1\\\\rangle\", 1],\n",
       "        bra: [\"\\\\langle#1|\", 1],\n",
       "        Ket: [\"\\\\left|#1\\\\right\\\\rangle\", 1],\n",
       "        Bra: [\"\\\\left\\\\langle#1\\\\right|\", 1],\n",
       "        braket: [\"\\\\langle#1\\\\rangle\", 1],\n",
       "        op: [\"\\\\mathbf{#1}\", 1],\n",
       "        mat: [\"\\\\mathbf{#1}\", 1],\n",
       "        pdiff: [\"\\\\frac{\\\\partial^{#1} #2}{\\\\partial {#3}^{#1}}\", 3, \"\"],\n",
       "        diff: [\"\\\\frac{\\\\d^{#1} #2}{\\\\d {#3}^{#1}}\", 3, \"\"],\n",
       "        ddiff: [\"\\\\frac{\\\\delta^{#1} #2}{\\\\delta {#3}^{#1}}\", 3, \"\"],\n",
       "        Tr: \"\\\\mathop{\\\\mathrm{Tr}}\\\\nolimits\",\n",
       "        erf: \"\\\\mathop{\\\\mathrm{erf}}\\\\nolimits\",\n",
       "        order: \"\\\\mathop{\\\\mathcal{O}}\\\\nolimits\",\n",
       "        diag: \"\\\\mathop{\\\\mathrm{diag}}\\\\nolimits\",\n",
       "        floor: [\"\\\\left\\\\lfloor#1\\\\right\\\\rfloor\", 1],\n",
       "        ceil: [\"\\\\left\\\\lceil#1\\\\right\\\\rceil\", 1],\n",
       "\n",
       "        mylabel: [\"\\\\label{#1}\\\\tag{#1}\", 1],\n",
       "        degree: [\"^{\\\\circ}\"],\n",
       "    },\n",
       "  }\n",
       "});\n",
       "\n",
       "// Jupyter.notebook.config.update({\"load_extensions\":{\"calico-document-tools\":true}});\n",
       "// Jupyter.notebook.config.update({\"load_extensions\":{\"calico-cell-tools\":true}});\n",
       "// Jupyter.notebook.config.update({\"load_extensions\":{\"calico-spell-check\":true}});\n"
      ],
      "text/plain": [
       "<IPython.core.display.Javascript object>"
      ]
     },
     "metadata": {},
     "output_type": "display_data"
    },
    {
     "data": {
      "text/html": [
       "<script id=\"MathJax-Element-48\" type=\"math/tex\">\n",
       "\\newcommand{\\vect}[1]{\\mathbf{#1}}\n",
       "\\newcommand{\\uvect}[1]{\\hat{#1}}\n",
       "\\newcommand{\\abs}[1]{\\lvert#1\\rvert}\n",
       "\\newcommand{\\norm}[1]{\\lVert#1\\rVert}\n",
       "\\newcommand{\\I}{\\mathrm{i}}\n",
       "\\newcommand{\\ket}[1]{\\left|#1\\right\\rangle}\n",
       "\\newcommand{\\bra}[1]{\\left\\langle#1\\right|}\n",
       "\\newcommand{\\braket}[1]{\\langle#1\\rangle}\n",
       "\\newcommand{\\op}[1]{\\mathbf{#1}}\n",
       "\\newcommand{\\mat}[1]{\\mathbf{#1}}\n",
       "\\newcommand{\\d}{\\mathrm{d}}\n",
       "\\newcommand{\\pdiff}[3][]{\\frac{\\partial^{#1} #2}{\\partial {#3}^{#1}}}\n",
       "\\newcommand{\\diff}[3][]{\\frac{\\d^{#1} #2}{\\d {#3}^{#1}}}\n",
       "\\newcommand{\\ddiff}[3][]{\\frac{\\delta^{#1} #2}{\\delta {#3}^{#1}}}\n",
       "\\DeclareMathOperator{\\erf}{erf}\n",
       "\\DeclareMathOperator{\\Tr}{Tr}\n",
       "\\DeclareMathOperator{\\order}{O}\n",
       "\\DeclareMathOperator{\\diag}{diag}\n",
       "\\DeclareMathOperator{\\sgn}{sgn}\n",
       "</script>\n",
       "<i>\n",
       "<p>This cell contains some definitions for equations and some CSS for styling the notebook.  If things look a bit strange, please try the following:\n",
       "\n",
       "<ul>\n",
       "  <li>Choose \"Trust Notebook\" from the \"File\" menu.</li>\n",
       "  <li>Re-execute this cell.</li>\n",
       "  <li>Reload the notebook.</li>\n",
       "</ul>\n",
       "</p>\n",
       "</i>\n"
      ],
      "text/plain": [
       "<IPython.core.display.HTML object>"
      ]
     },
     "metadata": {},
     "output_type": "display_data"
    }
   ],
   "source": [
    "import mmf_setup;mmf_setup.nbinit()"
   ]
  },
  {
   "cell_type": "markdown",
   "metadata": {},
   "source": [
    "# Convergence"
   ]
  },
  {
   "cell_type": "markdown",
   "metadata": {},
   "source": [
    "Here we demonstrate the convergence properties of some of the methods."
   ]
  },
  {
   "cell_type": "markdown",
   "metadata": {},
   "source": [
    "# ABM"
   ]
  },
  {
   "cell_type": "code",
   "execution_count": 2,
   "metadata": {
    "collapsed": false
   },
   "outputs": [
    {
     "name": "stdout",
     "output_type": "stream",
     "text": [
      "Populating the interactive namespace from numpy and matplotlib\n"
     ]
    }
   ],
   "source": [
    "%pylab inline --no-import-all\n",
    "from pytimeode import interfaces\n",
    "\n",
    "class State(interfaces.ArrayStateMixin):\n",
    "    \"\"\"Simple exponential problem.\"\"\"\n",
    "    interfaces.implements(interfaces.IStateForABMEvolvers)\n",
    "    def __init__(self):\n",
    "        self.data = np.array([1.0])\n",
    "    \n",
    "    def compute_dy(self, dy):\n",
    "        if dy is None:\n",
    "            dy = self.copy()\n",
    "        else:\n",
    "            dy[...] = self[...]\n",
    "        return dy"
   ]
  },
  {
   "cell_type": "code",
   "execution_count": 3,
   "metadata": {
    "collapsed": false
   },
   "outputs": [],
   "source": [
    "from pytimeode.evolvers import EvolverABM\n",
    "errs = []\n",
    "T = 1.0\n",
    "y0 = State()\n",
    "\n",
    "y_exact = y0[0]*np.exp(T)\n",
    "\n",
    "Nts = 2**np.arange(1, 12)\n",
    "\n",
    "def get_errors(Nts=Nts, **kw):\n",
    "    errs = []\n",
    "    for Nt in Nts:\n",
    "        evolver = EvolverABM(y=y0, dt=T/Nt, **kw)\n",
    "        evolver.evolve(Nt)\n",
    "        errs.append(abs(evolver.y[0] - y_exact))\n",
    "    return np.array(errs)\n",
    "\n",
    "errs = get_errors()\n",
    "errs_no_rk = get_errors(no_runge_kutta=True)"
   ]
  },
  {
   "cell_type": "code",
   "execution_count": 4,
   "metadata": {
    "collapsed": false
   },
   "outputs": [
    {
     "data": {
      "text/plain": [
       "<matplotlib.text.Text at 0x1144d83d0>"
      ]
     },
     "execution_count": 4,
     "metadata": {},
     "output_type": "execute_result"
    },
    {
     "data": {
      "image/png": "[encoded data removed]",
      "text/plain": [
       "<matplotlib.figure.Figure at 0x10807aa10>"
      ]
     },
     "metadata": {},
     "output_type": "display_data"
    }
   ],
   "source": [
    "plt.loglog(Nts, errs, 'b+-', label='ABM')\n",
    "plt.loglog(Nts, errs_no_rk, 'r+-', label='ABM (no Runge-Kutta)')\n",
    "plt.loglog(Nts, 0.05/Nts**5, 'y:', label=r'$N^{-5}$')\n",
    "plt.legend(loc='best')\n",
    "plt.xlabel('time steps')\n",
    "plt.ylabel('abs err')"
   ]
  },
  {
   "cell_type": "markdown",
   "metadata": {},
   "source": [
    "Here we plot the log of the errors as a function of number of timesteps demonstrating the $\\order(\\delta t^5)$ scaling of the errors for the ABM method.  Note that, if the function is not constant for the first few timesteps, the predictor-corrector arrays are not properly initialize and the evolution is not effective."
   ]
  },
  {
   "cell_type": "markdown",
   "metadata": {},
   "source": [
    "# Split Operator"
   ]
  },
  {
   "cell_type": "markdown",
   "metadata": {},
   "source": [
    "To test the split-operator method, we consider a simple problem of evolution with the following Hamiltonian:\n",
    "\n",
    "$$\n",
    "  \\I\\pdiff{}{t} = \\mat{K}\\ket{\\psi} + \\mat{V}\\ket{\\psi}\n",
    "$$\n",
    "\n",
    "where $\\mat{V} = \\diag\\abs{\\psi}^2 + \\mat{A}$ and $\\mat{K}$ and $\\mat{A}$ are random Hermitian matrices."
   ]
  },
  {
   "cell_type": "code",
   "execution_count": 5,
   "metadata": {
    "collapsed": false
   },
   "outputs": [
    {
     "name": "stdout",
     "output_type": "stream",
     "text": [
      "Populating the interactive namespace from numpy and matplotlib\n"
     ]
    }
   ],
   "source": [
    "%pylab inline --no-import-all\n",
    "import scipy.linalg\n",
    "sp = scipy\n",
    "from pytimeode import interfaces\n",
    "\n",
    "class State(interfaces.ArrayStateMixin):\n",
    "    \"\"\"Simple 2D non-linear Schrodinger equation\"\"\"\n",
    "    interfaces.implements(interfaces.IStateForABMEvolvers, interfaces.IStateForSplitEvolvers)\n",
    "    def __init__(self):\n",
    "        np.random.seed(1)\n",
    "        shape = (2, 2)\n",
    "        A = np.random.random(shape) + 1j*np.random.random(shape) - 0.5 - 0.5j\n",
    "        K = np.random.random(shape) + 1j*np.random.random(shape) - 0.5 - 0.5j\n",
    "        self.A = A + A.conj().T\n",
    "        self.K = K + K.conj().T\n",
    "        self.data = np.array([1.0, 0.0], dtype=complex)\n",
    "    \n",
    "    def compute_dy(self, dy):\n",
    "        V = np.diag(self.get_potentials()) + self.A\n",
    "        dy[...] = (self.K + V).dot(self[...])/1j\n",
    "        return dy\n",
    "    \n",
    "    def get_potentials(self):\n",
    "        \"\"\"Return `potentials` at time `self.t`.\"\"\"\n",
    "        psi = self[...]\n",
    "        return abs(psi)**2\n",
    "\n",
    "    def apply_exp_K(self, dt):\n",
    "        r\"\"\"Apply $e^{-i K dt}$ in place\"\"\"\n",
    "        self[...] = sp.linalg.expm(-1j*self.K*dt).dot(self[...])\n",
    "\n",
    "    def apply_exp_V(self, dt, state=None):\n",
    "        r\"\"\"Apply $e^{-i V dt}$ in place\"\"\"\n",
    "        potentials = state.get_potentials()\n",
    "        V = np.diag(potentials) + self.A\n",
    "        self[...] = sp.linalg.expm(-1j*V*dt).dot(self[...])"
   ]
  },
  {
   "cell_type": "markdown",
   "metadata": {},
   "source": [
    "For an \"exact\" solution we use the ABM evolver:"
   ]
  },
  {
   "cell_type": "code",
   "execution_count": 6,
   "metadata": {
    "collapsed": false
   },
   "outputs": [],
   "source": [
    "from pytimeode.evolvers import EvolverABM, EvolverSplit\n",
    "errs = []\n",
    "T = 1.0\n",
    "y0 = State()\n",
    "\n",
    "Nt = 2**12\n",
    "evolver = EvolverABM(y=y0, dt=T/Nt)\n",
    "evolver.evolve(Nt)\n",
    "y_exact = evolver.y[...]\n",
    "\n",
    "Nts = 2**np.arange(1, 12)\n",
    "\n",
    "def get_errors(Evolver=EvolverABM, Nts=Nts, **kw):\n",
    "    errs = []\n",
    "    for Nt in Nts:\n",
    "        evolver = Evolver(y=y0, dt=T/Nt, **kw)\n",
    "        evolver.evolve(Nt)\n",
    "        errs.append(abs(evolver.y[...] - y_exact).max())\n",
    "    return np.array(errs)\n",
    "\n",
    "errs = get_errors()\n",
    "errs_split = get_errors(Evolver=EvolverSplit)"
   ]
  },
  {
   "cell_type": "code",
   "execution_count": 7,
   "metadata": {
    "collapsed": false
   },
   "outputs": [
    {
     "data": {
      "text/plain": [
       "<matplotlib.text.Text at 0x1182824d0>"
      ]
     },
     "execution_count": 7,
     "metadata": {},
     "output_type": "execute_result"
    },
    {
     "data": {
      "image/png": "[encoded data removed]",
      "text/plain": [
       "<matplotlib.figure.Figure at 0x1146e4790>"
      ]
     },
     "metadata": {},
     "output_type": "display_data"
    }
   ],
   "source": [
    "plt.loglog(Nts, errs, 'b+:', label='ABM')\n",
    "plt.loglog(Nts, errs_split, 'g.:', label='Split')\n",
    "plt.loglog(Nts, 0.1/Nts**2, 'y-', label=r'$N^{-2}$')\n",
    "plt.loglog(Nts, 3./Nts**5, 'y-', label=r'$N^{-5}$')\n",
    "plt.legend(loc='best')\n",
    "plt.xlabel('time steps')\n",
    "plt.ylabel('abs err')"
   ]
  }
 ],
 "metadata": {
  "kernelspec": {
   "display_name": "Python 2",
   "language": "python",
   "name": "python2"
  },
  "language_info": {
   "codemirror_mode": {
    "name": "ipython",
    "version": 2
   },
   "file_extension": ".py",
   "mimetype": "text/x-python",
   "name": "python",
   "nbconvert_exporter": "python",
   "pygments_lexer": "ipython2",
   "version": "2.7.11"
  }
 },
 "nbformat": 4,
 "nbformat_minor": 0
}
