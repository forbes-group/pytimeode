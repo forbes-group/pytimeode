{
 "cells": [
  {
   "cell_type": "markdown",
   "metadata": {},
   "source": [
    "This notebook describes various setup tasks."
   ]
  },
  {
   "cell_type": "markdown",
   "metadata": {
    "heading_collapsed": false
   },
   "source": [
    "# Repository Setup"
   ]
  },
  {
   "cell_type": "markdown",
   "metadata": {},
   "source": [
    "Set up makefiles for ``README.rst``.  This file will appear on the bitbucket front page for the project, but the Makefile will allow me to generate the ``README.html`` file locally."
   ]
  },
  {
   "cell_type": "code",
   "execution_count": 1,
   "metadata": {
    "collapsed": false
   },
   "outputs": [
    {
     "name": "stdout",
     "output_type": "stream",
     "text": [
      "requesting all changes\n",
      "adding changesets\n",
      "adding manifests\n",
      "adding file changes\n",
      "added 45 changesets with 91 changes to 20 files (+1 heads)\n",
      "updating to branch default\n",
      "18 files updated, 0 files merged, 0 files removed, 0 files unresolved\n"
     ]
    }
   ],
   "source": [
    "!hg clone ssh://hg@bitbucket.org/mforbes/makefiles .makefiles"
   ]
  },
  {
   "cell_type": "code",
   "execution_count": 2,
   "metadata": {
    "collapsed": false
   },
   "outputs": [
    {
     "name": "stdout",
     "output_type": "stream",
     "text": [
      "4 files updated, 0 files merged, 11 files removed, 0 files unresolved\r\n"
     ]
    }
   ],
   "source": [
    "!cd .makefiles; hg up README"
   ]
  },
  {
   "cell_type": "code",
   "execution_count": 3,
   "metadata": {
    "collapsed": false
   },
   "outputs": [],
   "source": [
    "!cp .makefiles/Makefile.example Makefile"
   ]
  },
  {
   "cell_type": "code",
   "execution_count": 4,
   "metadata": {
    "collapsed": false
   },
   "outputs": [
    {
     "name": "stdout",
     "output_type": "stream",
     "text": [
      "Converted to a subhg repository.\r\n"
     ]
    }
   ],
   "source": [
    "!cd .makefiles; subhg setup"
   ]
  },
  {
   "cell_type": "code",
   "execution_count": 6,
   "metadata": {
    "collapsed": false
   },
   "outputs": [
    {
     "name": "stdout",
     "output_type": "stream",
     "text": [
      "Overwriting README.rst\n"
     ]
    }
   ],
   "source": [
    "%%file README.rst\n",
    ".. -*- rst -*- -*- restructuredtext -*-\n",
    "\n",
    ".. This file should be written using the restructure text\n",
    ".. conventions.  It will be displayed on the bitbucket source page and\n",
    ".. serves as the documentation of the directory.\n",
    "\n",
    "GPU GPE\n",
    "=======\n",
    "\n",
    "A collection of utilities for solving the Gross-Pitaevskii equations (GPE)\n",
    "using GPU clusters and other parallel computing resources.\n",
    "\n",
    "This project is funded by the WSU Seed Grant, and implemented by Ethan Crowell\n",
    "over the 2014-2015 academic year."
   ]
  },
  {
   "cell_type": "code",
   "execution_count": 15,
   "metadata": {
    "collapsed": false
   },
   "outputs": [
    {
     "name": "stdout",
     "output_type": "stream",
     "text": [
      "Overwriting .hgignore\n"
     ]
    }
   ],
   "source": [
    "%%file .hgignore\n",
    "README.html\n",
    ".ipynb_checkpoints\n",
    "\n",
    "syntax: glob\n",
    "*.pyc\n",
    "*.pyo"
   ]
  },
  {
   "cell_type": "code",
   "execution_count": 8,
   "metadata": {
    "collapsed": false
   },
   "outputs": [
    {
     "name": "stdout",
     "output_type": "stream",
     "text": [
      "\u001b[0;34;1m? \u001b[0m\u001b[0;34;1m.hgignore\u001b[0m\r\n",
      "\u001b[0;34;1m? \u001b[0m\u001b[0;34;1m.makefiles/.hgignore\u001b[0m\r\n",
      "\u001b[0;34;1m? \u001b[0m\u001b[0;34;1m.makefiles/Makefile\u001b[0m\r\n",
      "\u001b[0;34;1m? \u001b[0m\u001b[0;34;1m.makefiles/Makefile.example\u001b[0m\r\n",
      "\u001b[0;34;1m? \u001b[0m\u001b[0;34;1m.makefiles/README.rst\u001b[0m\r\n",
      "\u001b[0;34;1m? \u001b[0m\u001b[0;34;1m.makefiles/check.mk\u001b[0m\r\n",
      "\u001b[0;34;1m? \u001b[0m\u001b[0;34;1m.makefiles/help.mk\u001b[0m\r\n",
      "\u001b[0;34;1m? \u001b[0m\u001b[0;34;1m.makefiles/rst2html.mk\u001b[0m\r\n",
      "\u001b[0;34;1m? \u001b[0m\u001b[0;34;1mInitial Setup.ipynb\u001b[0m\r\n",
      "\u001b[0;34;1m? \u001b[0m\u001b[0;34;1mMakefile\u001b[0m\r\n",
      "\u001b[0;34;1m? \u001b[0m\u001b[0;34;1mREADME.rst\u001b[0m\r\n"
     ]
    }
   ],
   "source": [
    "!hg st"
   ]
  },
  {
   "cell_type": "code",
   "execution_count": 9,
   "metadata": {
    "collapsed": false
   },
   "outputs": [
    {
     "name": "stdout",
     "output_type": "stream",
     "text": [
      "adding .hgignore\r\n",
      "adding .makefiles/.hgignore\r\n",
      "adding .makefiles/Makefile\r\n",
      "adding .makefiles/Makefile.example\r\n",
      "adding .makefiles/README.rst\r\n",
      "adding .makefiles/check.mk\r\n",
      "adding .makefiles/help.mk\r\n",
      "adding .makefiles/rst2html.mk\r\n",
      "adding Initial Setup.ipynb\r\n",
      "adding Makefile\r\n",
      "adding README.rst\r\n"
     ]
    }
   ],
   "source": [
    "!hg add"
   ]
  },
  {
   "cell_type": "code",
   "execution_count": 10,
   "metadata": {
    "collapsed": false
   },
   "outputs": [],
   "source": [
    "!hg com -m \"Initial commit: Makefiles etc.\""
   ]
  },
  {
   "cell_type": "code",
   "execution_count": 11,
   "metadata": {
    "collapsed": false
   },
   "outputs": [
    {
     "name": "stdout",
     "output_type": "stream",
     "text": [
      "Writing .hgrc\n"
     ]
    }
   ],
   "source": [
    "%%file .hgrc\n",
    "[paths]\n",
    "pristine = ssh://hg@bitbucket.org/mforbes/gpu-gpe\n",
    "mforbes = ssh://hg@bitbucket.org/mforbes/gpu-gpe-fork\n",
    "ethan = ssh://hg@bitbucket.org/ecrowell4/gpu-gpe-fork"
   ]
  },
  {
   "cell_type": "code",
   "execution_count": 12,
   "metadata": {
    "collapsed": false
   },
   "outputs": [
    {
     "name": "stdout",
     "output_type": "stream",
     "text": [
      "adding .hgrc\r\n"
     ]
    }
   ],
   "source": [
    "!hg add"
   ]
  },
  {
   "cell_type": "code",
   "execution_count": 16,
   "metadata": {
    "collapsed": false
   },
   "outputs": [],
   "source": [
    "!hg amend"
   ]
  },
  {
   "cell_type": "markdown",
   "metadata": {
    "heading_collapsed": false
   },
   "source": [
    "# Software Requirements"
   ]
  },
  {
   "cell_type": "markdown",
   "metadata": {
    "heading_collapsed": false
   },
   "source": [
    "## PyFFTW"
   ]
  },
  {
   "cell_type": "markdown",
   "metadata": {},
   "source": [
    "While not strictly needed, a key to performance is a good library for computing the FFT, and the FFTW is one of the best.  You will need to compile and install the FFTW library for use, then install PyFFTW.  If you build these yourself, make sure to compile all precisions.  I use commands like this:\n",
    "\n",
    "```bash\n",
    "PREFIX=/data/apps/fftw\n",
    "VER=3.3.4\n",
    "for opt in \" \" \"--enable-sse2 --enable-single\" \\\n",
    "           \"--enable-long-double\" \"--enable-quad-precision\"; do\n",
    "  ./configure --prefix=\"${PREFIX}/${VER}\"\\\n",
    "              --enable-threads\\\n",
    "              --enable-shared\\\n",
    "              $opt\n",
    "  make -j8 install\n",
    "done\n",
    "```\n",
    "\n",
    "(On Windows, there are PyFFTW installers that include the FFTW libraries:\n",
    "\n",
    "https://pypi.python.org/pypi/pyFFTW\n",
    "\n",
    "Install the appropriate version for Python 2.7 and your os.)\n",
    "\n"
   ]
  },
  {
   "cell_type": "code",
   "execution_count": 27,
   "metadata": {
    "collapsed": false
   },
   "outputs": [
    {
     "name": "stdout",
     "output_type": "stream",
     "text": [
      "10 loops, best of 3: 140 ms per loop\n",
      "The slowest run took 66.60 times longer than the fastest. This could mean that an intermediate result is being cached \n",
      "1 loops, best of 3: 17 ms per loop\n"
     ]
    }
   ],
   "source": [
    "import pyfftw\n",
    "import numpy as np\n",
    "N = 128\n",
    "X = np.ones((N,)*3, dtype=complex)\n",
    "assert np.allclose(\n",
    "    np.fft.fftn(X), pyfftw.interfaces.numpy_fft.fftn(X))\n",
    "%timeit np.fft.fftn(X)\n",
    "pyfftw.interfaces.cache.enable()  # Allow caching of the plans\n",
    "%timeit pyfftw.interfaces.numpy_fft.fftn(X, threads=8)  # Allow threads - FFTW will measure for best performance"
   ]
  },
  {
   "cell_type": "code",
   "execution_count": null,
   "metadata": {
    "collapsed": false
   },
   "outputs": [],
   "source": []
  }
 ],
 "metadata": {
  "kernelspec": {
   "display_name": "Python 2",
   "name": "python2"
  },
  "language_info": {
   "codemirror_mode": {
    "name": "ipython",
    "version": 2
   },
   "file_extension": ".py",
   "mimetype": "text/x-python",
   "name": "python",
   "nbconvert_exporter": "python",
   "pygments_lexer": "ipython2",
   "version": "2.7.9"
  }
 },
 "nbformat": 4,
 "nbformat_minor": 0
}
