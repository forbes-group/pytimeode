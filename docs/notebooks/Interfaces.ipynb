{
 "cells": [
  {
   "cell_type": "code",
   "execution_count": 1,
   "metadata": {
    "collapsed": true
   },
   "outputs": [],
   "source": [
    "# Chunk of code to display interfaces.\n",
    "# See: http://code.activestate.com/recipes/193890-using-rest-restructuredtext-to-create-html-snippet/\n",
    "import IPython.display\n",
    "\n",
    "from docutils import core\n",
    "from docutils.writers.html4css1 import Writer,HTMLTranslator\n",
    "\n",
    "import zope.interface.document\n",
    "\n",
    "class NoHeaderHTMLTranslator(HTMLTranslator):\n",
    "    def __init__(self, document):\n",
    "        HTMLTranslator.__init__(self,document)\n",
    "        self.head_prefix = ['','','','','']\n",
    "        self.body_prefix = []\n",
    "        self.body_suffix = []\n",
    "        self.stylesheet = []\n",
    "\n",
    "_w = Writer()\n",
    "_w.translator_class = NoHeaderHTMLTranslator\n",
    "\n",
    "def reSTify(string):\n",
    "    return IPython.display.HTML(core.publish_string(string,writer=_w))\n",
    "\n",
    "def describe(interface):\n",
    "    rst = zope.interface.document.asStructuredText(interface)\n",
    "    return IPython.display.display(reSTify(rst))"
   ]
  },
  {
   "cell_type": "markdown",
   "metadata": {},
   "source": [
    "# Interfaces"
   ]
  },
  {
   "cell_type": "markdown",
   "metadata": {},
   "source": [
    "Python itself does not support interfaces, but they can greatly simplify the design of a complex project.  Here we use interfaces to provide a clear recipe for developers to use our code.  To verify that interfaces are being used properly we use the [``zope.interface``](http://docs.zope.org/zope.interface/) package, but implement it through ``utils.interface`` which will provide some no-op defaults if ``zope.interface`` cannot be imported."
   ]
  },
  {
   "cell_type": "markdown",
   "metadata": {},
   "source": [
    "## Evolvers"
   ]
  },
  {
   "cell_type": "markdown",
   "metadata": {},
   "source": [
    "At the highest level, we have our evolvers.  The general user interface is quite simple:"
   ]
  },
  {
   "cell_type": "code",
   "execution_count": 2,
   "metadata": {
    "collapsed": false
   },
   "outputs": [
    {
     "data": {
      "text/html": [
       "<!DOCTYPE html PUBLIC \"-//W3C//DTD XHTML 1.0 Transitional//EN\" \"http://www.w3.org/TR/xhtml1/DTD/xhtml1-transitional.dtd\">\n",
       "<html xmlns=\"http://www.w3.org/1999/xhtml\" xml:lang=\"en\" lang=\"en\">\n",
       "<head>\n",
       "<meta http-equiv=\"Content-Type\" content=\"text/html; charset=utf-8\" />\n",
       "<meta name=\"generator\" content=\"Docutils 0.12: http://docutils.sourceforge.net/\" />\n",
       "<title></title>\n",
       "\n",
       "<div class=\"document\">\n",
       "\n",
       "\n",
       "<p><tt class=\"docutils literal\">IEvolver</tt></p>\n",
       "<blockquote>\n",
       "<p>General interface for evolvers</p>\n",
       "<p>Attributes:</p>\n",
       "<blockquote>\n",
       "<p><tt class=\"docutils literal\">t</tt> -- Current time</p>\n",
       "<p><tt class=\"docutils literal\">y</tt> -- Current state</p>\n",
       "</blockquote>\n",
       "<p>Methods:</p>\n",
       "<blockquote>\n",
       "<p><tt class=\"docutils literal\">__init__(y, dt, t=0.0, copy=True)</tt> -- Return an evolver starting with state <cite>y</cite> at time <cite>t</cite> and evolve\n",
       "with step <cite>dt</cite>.</p>\n",
       "<p><tt class=\"docutils literal\">evolve(steps)</tt> -- Evolve the initial state by <cite>steps</cite> of length <cite>dt</cite> in time</p>\n",
       "</blockquote>\n",
       "</blockquote>\n",
       "</div>\n"
      ],
      "text/plain": [
       "<IPython.core.display.HTML object>"
      ]
     },
     "metadata": {},
     "output_type": "display_data"
    }
   ],
   "source": [
    "import sys; sys.path.append('../../')\n",
    "import pytimeode.interfaces;reload(pytimeode.interfaces)\n",
    "describe(pytimeode.interfaces.IEvolver)"
   ]
  },
  {
   "cell_type": "markdown",
   "metadata": {},
   "source": [
    "The evolver gets all of its information from the initial state `y` passed in.  Depending on which evolver is used, a different interface is required.  For example, the ABM type evolvers need only ``compute_dy_inplace`` while the Split Operator evolvers need ``apply_exp_K()`` and ``apply_exp_V()``.  These interfaces are specified by various ``IState`` variants.  The basic ``IState`` interface provides an \"array-like\" object representing the current state.  Evolvers need to be able to perform various linear operations on this, make copies, etc.  The ``IState`` interface provides the complete interface, but only a minimal subset of operations need to be defined (``IStateMinimal``).  Use the ``StateMixin`` to define the remaining operations in terms of these.  Note: you may want to implement your own version of some of these for performance, but it should generally not be needed."
   ]
  },
  {
   "cell_type": "code",
   "execution_count": 3,
   "metadata": {
    "collapsed": false
   },
   "outputs": [
    {
     "data": {
      "text/html": [
       "<!DOCTYPE html PUBLIC \"-//W3C//DTD XHTML 1.0 Transitional//EN\" \"http://www.w3.org/TR/xhtml1/DTD/xhtml1-transitional.dtd\">\n",
       "<html xmlns=\"http://www.w3.org/1999/xhtml\" xml:lang=\"en\" lang=\"en\">\n",
       "<head>\n",
       "<meta http-equiv=\"Content-Type\" content=\"text/html; charset=utf-8\" />\n",
       "<meta name=\"generator\" content=\"Docutils 0.12: http://docutils.sourceforge.net/\" />\n",
       "<title></title>\n",
       "\n",
       "<div class=\"document\">\n",
       "\n",
       "\n",
       "<p><tt class=\"docutils literal\">IStateMinimal</tt></p>\n",
       "<blockquote>\n",
       "<p>Minimal interface required for state objects.  This will not satisfy all\n",
       "uses of a state.</p>\n",
       "<p>Attributes:</p>\n",
       "<blockquote>\n",
       "<p><tt class=\"docutils literal\">dtype</tt> -- Return the dtype of the underlying state.  If this is\n",
       "real, then it is assumed that the states will always be\n",
       "real and certain optimizations may take place.</p>\n",
       "<p><tt class=\"docutils literal\">t</tt> -- Time at which state is valid.</p>\n",
       "<p><tt class=\"docutils literal\">writeable</tt> -- Set to <cite>True</cite> if the state is writeable, or\n",
       "<cite>False</cite> if the state should only be read.</p>\n",
       "</blockquote>\n",
       "<p>Methods:</p>\n",
       "<blockquote>\n",
       "<p><tt class=\"docutils literal\">axpy(x, a=1)</tt> -- Perform <cite>self += a*x</cite> as efficiently as possible.</p>\n",
       "<p><tt class=\"docutils literal\">copy()</tt> -- Return a writeable copy of the state.</p>\n",
       "<p><tt class=\"docutils literal\">copy_from(y)</tt> -- Set this state to be a copy of the state <cite>y</cite></p>\n",
       "<p><tt class=\"docutils literal\">scale(f)</tt> -- Perform <cite>self *= f</cite> as efficiently as possible.</p>\n",
       "</blockquote>\n",
       "</blockquote>\n",
       "</div>\n"
      ],
      "text/plain": [
       "<IPython.core.display.HTML object>"
      ]
     },
     "metadata": {},
     "output_type": "display_data"
    },
    {
     "data": {
      "text/html": [
       "<!DOCTYPE html PUBLIC \"-//W3C//DTD XHTML 1.0 Transitional//EN\" \"http://www.w3.org/TR/xhtml1/DTD/xhtml1-transitional.dtd\">\n",
       "<html xmlns=\"http://www.w3.org/1999/xhtml\" xml:lang=\"en\" lang=\"en\">\n",
       "<head>\n",
       "<meta http-equiv=\"Content-Type\" content=\"text/html; charset=utf-8\" />\n",
       "<meta name=\"generator\" content=\"Docutils 0.12: http://docutils.sourceforge.net/\" />\n",
       "<title></title>\n",
       "\n",
       "<div class=\"document\">\n",
       "\n",
       "\n",
       "<p><tt class=\"docutils literal\">IState</tt></p>\n",
       "<blockquote>\n",
       "<p>Interface required by the evolvers.</p>\n",
       "<blockquote>\n",
       "Many of these functions are for convenience, and can be implemented from\n",
       "those defined in <tt class=\"docutils literal\">IState</tt> by including the <tt class=\"docutils literal\">StateMixin</tt> mixin.</blockquote>\n",
       "<p>This interface extends:</p>\n",
       "<blockquote>\n",
       "o <tt class=\"docutils literal\">IStateMinimal</tt></blockquote>\n",
       "<p>Methods:</p>\n",
       "<blockquote>\n",
       "<p><tt class=\"docutils literal\">__add__(y)</tt> -- Return <cite>self + y</cite></p>\n",
       "<p><tt class=\"docutils literal\">__div__(f)</tt> -- Return <cite>self / y</cite></p>\n",
       "<p><tt class=\"docutils literal\">__iadd__(y)</tt> -- <cite>self += y</cite></p>\n",
       "<p><tt class=\"docutils literal\">__idiv__(f)</tt> -- <cite>self /= f</cite></p>\n",
       "<p><tt class=\"docutils literal\">__imul__(f)</tt> -- <cite>self *= f</cite></p>\n",
       "<p><tt class=\"docutils literal\">__isub__(y)</tt> -- <cite>self -= y</cite></p>\n",
       "<p><tt class=\"docutils literal\">__itruediv__(f)</tt> -- <cite>self /= f</cite></p>\n",
       "<p><tt class=\"docutils literal\">__mul__(f)</tt> -- Return <cite>self * y</cite></p>\n",
       "<p><tt class=\"docutils literal\">__rmul__(f)</tt> -- Return <cite>self * y</cite></p>\n",
       "<p><tt class=\"docutils literal\">__sub__(y)</tt> -- Return <cite>self - y</cite></p>\n",
       "<p><tt class=\"docutils literal\">__truediv__(f)</tt> -- Return <cite>self / y</cite></p>\n",
       "</blockquote>\n",
       "</blockquote>\n",
       "</div>\n"
      ],
      "text/plain": [
       "<IPython.core.display.HTML object>"
      ]
     },
     "metadata": {},
     "output_type": "display_data"
    },
    {
     "data": {
      "text/html": [
       "<!DOCTYPE html PUBLIC \"-//W3C//DTD XHTML 1.0 Transitional//EN\" \"http://www.w3.org/TR/xhtml1/DTD/xhtml1-transitional.dtd\">\n",
       "<html xmlns=\"http://www.w3.org/1999/xhtml\" xml:lang=\"en\" lang=\"en\">\n",
       "<head>\n",
       "<meta http-equiv=\"Content-Type\" content=\"text/html; charset=utf-8\" />\n",
       "<meta name=\"generator\" content=\"Docutils 0.12: http://docutils.sourceforge.net/\" />\n",
       "<title></title>\n",
       "\n",
       "<div class=\"document\">\n",
       "\n",
       "\n",
       "<p><tt class=\"docutils literal\">IStateForABMEvolvers</tt></p>\n",
       "<blockquote>\n",
       "<p>Interface required by ABM and similar integration based evolvers.</p>\n",
       "<blockquote>\n",
       "These evolvers are very general, requiring only the ability for the problem\n",
       "to compute $dy/dt$.</blockquote>\n",
       "<p>This interface extends:</p>\n",
       "<blockquote>\n",
       "o <tt class=\"docutils literal\">IState</tt></blockquote>\n",
       "<p>Methods:</p>\n",
       "<blockquote>\n",
       "<p><tt class=\"docutils literal\">compute_dy(t, dy=None)</tt> -- Return <cite>dy/dt</cite> at time <cite>t</cite>.</p>\n",
       "<blockquote>\n",
       "If <cite>dy</cite> is provided, then use it for the result, otherwise return a new\n",
       "state.</blockquote>\n",
       "</blockquote>\n",
       "</blockquote>\n",
       "</div>\n"
      ],
      "text/plain": [
       "<IPython.core.display.HTML object>"
      ]
     },
     "metadata": {},
     "output_type": "display_data"
    },
    {
     "data": {
      "text/html": [
       "<!DOCTYPE html PUBLIC \"-//W3C//DTD XHTML 1.0 Transitional//EN\" \"http://www.w3.org/TR/xhtml1/DTD/xhtml1-transitional.dtd\">\n",
       "<html xmlns=\"http://www.w3.org/1999/xhtml\" xml:lang=\"en\" lang=\"en\">\n",
       "<head>\n",
       "<meta http-equiv=\"Content-Type\" content=\"text/html; charset=utf-8\" />\n",
       "<meta name=\"generator\" content=\"Docutils 0.12: http://docutils.sourceforge.net/\" />\n",
       "<title></title>\n",
       "\n",
       "<div class=\"document\">\n",
       "\n",
       "\n",
       "<p><tt class=\"docutils literal\">IStateForSplitEvolvers</tt></p>\n",
       "<blockquote>\n",
       "<p>Interface required by Split Operator evolvers.</p>\n",
       "<blockquote>\n",
       "These evolvers assume the problem can be split into two operators - $K$\n",
       "(kinetic energy) and $V$ (potential energy) so that $i dy/dt = (K+V)y$.\n",
       "The method requires that each of these operators be exponentiated.  The\n",
       "approach uses a Trotter decomposition that provides higher order accuracy,\n",
       "but requires evaluation of the potentials at an intermediate time.  The\n",
       "<tt class=\"docutils literal\">get_potentials()</tt> method must therefore be able to compute the\n",
       "potentials at a specified time which might lie at a half-step.</blockquote>\n",
       "<p>This interface extends:</p>\n",
       "<blockquote>\n",
       "o <tt class=\"docutils literal\">IState</tt></blockquote>\n",
       "<p>Methods:</p>\n",
       "<blockquote>\n",
       "<p><tt class=\"docutils literal\">apply_exp_K(dt, t=None)</tt> -- Apply $e^{i K dt}$ in place</p>\n",
       "<p><tt class=\"docutils literal\">apply_exp_V(dt, t=None, potentials=None)</tt> -- Apply $e^{i V dt}$ in place</p>\n",
       "<p><tt class=\"docutils literal\">get_potentials(t)</tt> -- Return <cite>potentials</cite> at time <cite>t</cite>.</p>\n",
       "</blockquote>\n",
       "</blockquote>\n",
       "</div>\n"
      ],
      "text/plain": [
       "<IPython.core.display.HTML object>"
      ]
     },
     "metadata": {},
     "output_type": "display_data"
    }
   ],
   "source": [
    "describe(pytimeode.interfaces.IStateMinimal)\n",
    "describe(pytimeode.interfaces.IState)\n",
    "describe(pytimeode.interfaces.IStateForABMEvolvers)\n",
    "describe(pytimeode.interfaces.IStateForSplitEvolvers)"
   ]
  },
  {
   "cell_type": "markdown",
   "metadata": {},
   "source": [
    "There are some additional interfaces for added functionality:"
   ]
  },
  {
   "cell_type": "code",
   "execution_count": 4,
   "metadata": {
    "collapsed": false
   },
   "outputs": [
    {
     "data": {
      "text/html": [
       "<!DOCTYPE html PUBLIC \"-//W3C//DTD XHTML 1.0 Transitional//EN\" \"http://www.w3.org/TR/xhtml1/DTD/xhtml1-transitional.dtd\">\n",
       "<html xmlns=\"http://www.w3.org/1999/xhtml\" xml:lang=\"en\" lang=\"en\">\n",
       "<head>\n",
       "<meta http-equiv=\"Content-Type\" content=\"text/html; charset=utf-8\" />\n",
       "<meta name=\"generator\" content=\"Docutils 0.12: http://docutils.sourceforge.net/\" />\n",
       "<title></title>\n",
       "\n",
       "<div class=\"document\">\n",
       "\n",
       "\n",
       "<p><tt class=\"docutils literal\">IStateWithNormalize</tt></p>\n",
       "<blockquote>\n",
       "<p>Interface for states with a normalize function.  Solvers can then\n",
       "provide some extra features natively like allowing imaginary time evolution\n",
       "for initial state preparation.</p>\n",
       "<p>This interface extends:</p>\n",
       "<blockquote>\n",
       "o <tt class=\"docutils literal\">IState</tt></blockquote>\n",
       "<p>Methods:</p>\n",
       "<blockquote>\n",
       "<p><tt class=\"docutils literal\">normalize()</tt> -- Normalize (and orthogonalize) the state.</p>\n",
       "<blockquote>\n",
       "This method may be called by the evolvers if they implement non-unitary\n",
       "evolution (imaginary time cooling for example) after each step.  For\n",
       "Fermionic DFTs, the single-particle wavefunctions would then also need\n",
       "to be orthogonalized.</blockquote>\n",
       "</blockquote>\n",
       "</blockquote>\n",
       "</div>\n"
      ],
      "text/plain": [
       "<IPython.core.display.HTML object>"
      ]
     },
     "metadata": {},
     "output_type": "display_data"
    },
    {
     "data": {
      "text/html": [
       "<!DOCTYPE html PUBLIC \"-//W3C//DTD XHTML 1.0 Transitional//EN\" \"http://www.w3.org/TR/xhtml1/DTD/xhtml1-transitional.dtd\">\n",
       "<html xmlns=\"http://www.w3.org/1999/xhtml\" xml:lang=\"en\" lang=\"en\">\n",
       "<head>\n",
       "<meta http-equiv=\"Content-Type\" content=\"text/html; charset=utf-8\" />\n",
       "<meta name=\"generator\" content=\"Docutils 0.12: http://docutils.sourceforge.net/\" />\n",
       "<title></title>\n",
       "\n",
       "<div class=\"document\">\n",
       "\n",
       "\n",
       "<p><tt class=\"docutils literal\">INumexpr</tt></p>\n",
       "<blockquote>\n",
       "<p>Allows for numexpr optimizations</p>\n",
       "<p>Attributes:</p>\n",
       "<blockquote>\n",
       "<tt class=\"docutils literal\">dtype</tt> -- Return the dtype of the underlying state.  If this is\n",
       "real, then it is assumed that the states will always be\n",
       "real and certain optimizations may take place.</blockquote>\n",
       "<p>Methods:</p>\n",
       "<blockquote>\n",
       "<tt class=\"docutils literal\">apply(expr, **kwargs)</tt> -- Evaluate the expression using the arguments in <tt class=\"docutils literal\">kwargs</tt> and store\n",
       "the result in <tt class=\"docutils literal\">self</tt>.  For those instance of the class in <tt class=\"docutils literal\">kwargs</tt>,\n",
       "the expression must be applied over all components.  This is used by\n",
       "the <tt class=\"docutils literal\">utils.expr.Expression</tt> class to allow numexpr expressions to be\n",
       "applied to custom state objects.</blockquote>\n",
       "</blockquote>\n",
       "</div>\n"
      ],
      "text/plain": [
       "<IPython.core.display.HTML object>"
      ]
     },
     "metadata": {},
     "output_type": "display_data"
    }
   ],
   "source": [
    "describe(pytimeode.interfaces.IStateWithNormalize)\n",
    "describe(pytimeode.interfaces.INumexpr)"
   ]
  }
 ],
 "metadata": {
  "kernelspec": {
   "display_name": "Python 2",
   "language": "python",
   "name": "python2"
  },
  "language_info": {
   "codemirror_mode": {
    "name": "ipython",
    "version": 2
   },
   "file_extension": ".py",
   "mimetype": "text/x-python",
   "name": "python",
   "nbconvert_exporter": "python",
   "pygments_lexer": "ipython2",
   "version": "2.7.10"
  }
 },
 "nbformat": 4,
 "nbformat_minor": 0
}
